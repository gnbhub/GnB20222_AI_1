{
  "cells": [
    {
      "cell_type": "markdown",
      "metadata": {
        "id": "view-in-github",
        "colab_type": "text"
      },
      "source": [
        "<a href=\"https://colab.research.google.com/github/gnbhub/GnB20222_AI_1/blob/master/20221116/1116_woodahyeon.ipynb\" target=\"_parent\"><img src=\"https://colab.research.google.com/assets/colab-badge.svg\" alt=\"Open In Colab\"/></a>"
      ]
    },
    {
      "cell_type": "code",
      "execution_count": null,
      "id": "39083d4f",
      "metadata": {
        "id": "39083d4f"
      },
      "outputs": [],
      "source": [
        "import pandas as pd\n",
        "import numpy as np"
      ]
    },
    {
      "cell_type": "code",
      "execution_count": null,
      "id": "4fda2966",
      "metadata": {
        "id": "4fda2966",
        "outputId": "8c31919d-4453-4666-b13a-ac7a4592c02f"
      },
      "outputs": [
        {
          "data": {
            "text/html": [
              "<div>\n",
              "<style scoped>\n",
              "    .dataframe tbody tr th:only-of-type {\n",
              "        vertical-align: middle;\n",
              "    }\n",
              "\n",
              "    .dataframe tbody tr th {\n",
              "        vertical-align: top;\n",
              "    }\n",
              "\n",
              "    .dataframe thead th {\n",
              "        text-align: right;\n",
              "    }\n",
              "</style>\n",
              "<table border=\"1\" class=\"dataframe\">\n",
              "  <thead>\n",
              "    <tr style=\"text-align: right;\">\n",
              "      <th></th>\n",
              "      <th>Sepal.Length</th>\n",
              "      <th>Sepal.Width</th>\n",
              "      <th>Petal.Length</th>\n",
              "      <th>Petal.Width</th>\n",
              "      <th>Species</th>\n",
              "    </tr>\n",
              "  </thead>\n",
              "  <tbody>\n",
              "    <tr>\n",
              "      <th>0</th>\n",
              "      <td>5.1</td>\n",
              "      <td>3.5</td>\n",
              "      <td>1.4</td>\n",
              "      <td>0.2</td>\n",
              "      <td>setosa</td>\n",
              "    </tr>\n",
              "    <tr>\n",
              "      <th>1</th>\n",
              "      <td>4.9</td>\n",
              "      <td>3.0</td>\n",
              "      <td>1.4</td>\n",
              "      <td>0.2</td>\n",
              "      <td>setosa</td>\n",
              "    </tr>\n",
              "    <tr>\n",
              "      <th>2</th>\n",
              "      <td>4.7</td>\n",
              "      <td>3.2</td>\n",
              "      <td>1.3</td>\n",
              "      <td>0.2</td>\n",
              "      <td>setosa</td>\n",
              "    </tr>\n",
              "    <tr>\n",
              "      <th>3</th>\n",
              "      <td>4.6</td>\n",
              "      <td>3.1</td>\n",
              "      <td>1.5</td>\n",
              "      <td>0.2</td>\n",
              "      <td>setosa</td>\n",
              "    </tr>\n",
              "    <tr>\n",
              "      <th>4</th>\n",
              "      <td>5.0</td>\n",
              "      <td>3.6</td>\n",
              "      <td>1.4</td>\n",
              "      <td>0.2</td>\n",
              "      <td>setosa</td>\n",
              "    </tr>\n",
              "  </tbody>\n",
              "</table>\n",
              "</div>"
            ],
            "text/plain": [
              "   Sepal.Length  Sepal.Width  Petal.Length  Petal.Width Species\n",
              "0           5.1          3.5           1.4          0.2  setosa\n",
              "1           4.9          3.0           1.4          0.2  setosa\n",
              "2           4.7          3.2           1.3          0.2  setosa\n",
              "3           4.6          3.1           1.5          0.2  setosa\n",
              "4           5.0          3.6           1.4          0.2  setosa"
            ]
          },
          "execution_count": 2,
          "metadata": {},
          "output_type": "execute_result"
        }
      ],
      "source": [
        "df = pd.read_csv(\"iris.csv\")\n",
        "\n",
        "df.head()"
      ]
    },
    {
      "cell_type": "code",
      "execution_count": null,
      "id": "7c3bdf93",
      "metadata": {
        "id": "7c3bdf93"
      },
      "outputs": [],
      "source": [
        "#np.where(조건, True값, False값)"
      ]
    },
    {
      "cell_type": "code",
      "execution_count": null,
      "id": "776306bf",
      "metadata": {
        "id": "776306bf",
        "outputId": "4bb9f195-83d3-4bcc-ab74-319d8fec98b0"
      },
      "outputs": [
        {
          "data": {
            "text/html": [
              "<div>\n",
              "<style scoped>\n",
              "    .dataframe tbody tr th:only-of-type {\n",
              "        vertical-align: middle;\n",
              "    }\n",
              "\n",
              "    .dataframe tbody tr th {\n",
              "        vertical-align: top;\n",
              "    }\n",
              "\n",
              "    .dataframe thead th {\n",
              "        text-align: right;\n",
              "    }\n",
              "</style>\n",
              "<table border=\"1\" class=\"dataframe\">\n",
              "  <thead>\n",
              "    <tr style=\"text-align: right;\">\n",
              "      <th></th>\n",
              "      <th>Sepal.Length</th>\n",
              "      <th>Sepal.Width</th>\n",
              "      <th>Petal.Length</th>\n",
              "      <th>Petal.Width</th>\n",
              "      <th>Species</th>\n",
              "      <th>is_setosa</th>\n",
              "    </tr>\n",
              "  </thead>\n",
              "  <tbody>\n",
              "    <tr>\n",
              "      <th>0</th>\n",
              "      <td>5.1</td>\n",
              "      <td>3.5</td>\n",
              "      <td>1.4</td>\n",
              "      <td>0.2</td>\n",
              "      <td>setosa</td>\n",
              "      <td>1</td>\n",
              "    </tr>\n",
              "    <tr>\n",
              "      <th>1</th>\n",
              "      <td>4.9</td>\n",
              "      <td>3.0</td>\n",
              "      <td>1.4</td>\n",
              "      <td>0.2</td>\n",
              "      <td>setosa</td>\n",
              "      <td>1</td>\n",
              "    </tr>\n",
              "    <tr>\n",
              "      <th>2</th>\n",
              "      <td>4.7</td>\n",
              "      <td>3.2</td>\n",
              "      <td>1.3</td>\n",
              "      <td>0.2</td>\n",
              "      <td>setosa</td>\n",
              "      <td>1</td>\n",
              "    </tr>\n",
              "    <tr>\n",
              "      <th>3</th>\n",
              "      <td>4.6</td>\n",
              "      <td>3.1</td>\n",
              "      <td>1.5</td>\n",
              "      <td>0.2</td>\n",
              "      <td>setosa</td>\n",
              "      <td>1</td>\n",
              "    </tr>\n",
              "    <tr>\n",
              "      <th>4</th>\n",
              "      <td>5.0</td>\n",
              "      <td>3.6</td>\n",
              "      <td>1.4</td>\n",
              "      <td>0.2</td>\n",
              "      <td>setosa</td>\n",
              "      <td>1</td>\n",
              "    </tr>\n",
              "  </tbody>\n",
              "</table>\n",
              "</div>"
            ],
            "text/plain": [
              "   Sepal.Length  Sepal.Width  Petal.Length  Petal.Width Species  is_setosa\n",
              "0           5.1          3.5           1.4          0.2  setosa          1\n",
              "1           4.9          3.0           1.4          0.2  setosa          1\n",
              "2           4.7          3.2           1.3          0.2  setosa          1\n",
              "3           4.6          3.1           1.5          0.2  setosa          1\n",
              "4           5.0          3.6           1.4          0.2  setosa          1"
            ]
          },
          "execution_count": 9,
          "metadata": {},
          "output_type": "execute_result"
        }
      ],
      "source": [
        "df[\"is_setosa\"] = np.where(df[\"Species\"]=='setosa', 1, 0)\n",
        "\n",
        "df.head()"
      ]
    },
    {
      "cell_type": "code",
      "execution_count": null,
      "id": "af8f3b4f",
      "metadata": {
        "id": "af8f3b4f",
        "outputId": "7ed46435-b7fb-4706-d246-dff1be8adc9d"
      },
      "outputs": [
        {
          "data": {
            "text/html": [
              "<div>\n",
              "<style scoped>\n",
              "    .dataframe tbody tr th:only-of-type {\n",
              "        vertical-align: middle;\n",
              "    }\n",
              "\n",
              "    .dataframe tbody tr th {\n",
              "        vertical-align: top;\n",
              "    }\n",
              "\n",
              "    .dataframe thead th {\n",
              "        text-align: right;\n",
              "    }\n",
              "</style>\n",
              "<table border=\"1\" class=\"dataframe\">\n",
              "  <thead>\n",
              "    <tr style=\"text-align: right;\">\n",
              "      <th>is_setosa</th>\n",
              "      <th>0</th>\n",
              "      <th>1</th>\n",
              "    </tr>\n",
              "    <tr>\n",
              "      <th>Species</th>\n",
              "      <th></th>\n",
              "      <th></th>\n",
              "    </tr>\n",
              "  </thead>\n",
              "  <tbody>\n",
              "    <tr>\n",
              "      <th>setosa</th>\n",
              "      <td>0</td>\n",
              "      <td>50</td>\n",
              "    </tr>\n",
              "    <tr>\n",
              "      <th>versicolor</th>\n",
              "      <td>50</td>\n",
              "      <td>0</td>\n",
              "    </tr>\n",
              "    <tr>\n",
              "      <th>virginica</th>\n",
              "      <td>50</td>\n",
              "      <td>0</td>\n",
              "    </tr>\n",
              "  </tbody>\n",
              "</table>\n",
              "</div>"
            ],
            "text/plain": [
              "is_setosa    0   1\n",
              "Species           \n",
              "setosa       0  50\n",
              "versicolor  50   0\n",
              "virginica   50   0"
            ]
          },
          "execution_count": 12,
          "metadata": {},
          "output_type": "execute_result"
        }
      ],
      "source": [
        "pd.crosstab(df['Species'], df['is_setosa'])"
      ]
    },
    {
      "cell_type": "code",
      "execution_count": null,
      "id": "1b14421f",
      "metadata": {
        "id": "1b14421f",
        "outputId": "3b10a34b-4a71-4e68-a36f-bedaba0d1c8c"
      },
      "outputs": [
        {
          "data": {
            "text/html": [
              "<div>\n",
              "<style scoped>\n",
              "    .dataframe tbody tr th:only-of-type {\n",
              "        vertical-align: middle;\n",
              "    }\n",
              "\n",
              "    .dataframe tbody tr th {\n",
              "        vertical-align: top;\n",
              "    }\n",
              "\n",
              "    .dataframe thead th {\n",
              "        text-align: right;\n",
              "    }\n",
              "</style>\n",
              "<table border=\"1\" class=\"dataframe\">\n",
              "  <thead>\n",
              "    <tr style=\"text-align: right;\">\n",
              "      <th></th>\n",
              "      <th>Sepal.Length</th>\n",
              "      <th>Sepal.Width</th>\n",
              "      <th>Petal.Length</th>\n",
              "      <th>Petal.Width</th>\n",
              "      <th>Species</th>\n",
              "      <th>is_setosa</th>\n",
              "      <th>is_setosa_2</th>\n",
              "      <th>is_setosa_3</th>\n",
              "    </tr>\n",
              "  </thead>\n",
              "  <tbody>\n",
              "    <tr>\n",
              "      <th>0</th>\n",
              "      <td>5.1</td>\n",
              "      <td>3.5</td>\n",
              "      <td>1.4</td>\n",
              "      <td>0.2</td>\n",
              "      <td>setosa</td>\n",
              "      <td>1</td>\n",
              "      <td>1</td>\n",
              "      <td>1</td>\n",
              "    </tr>\n",
              "    <tr>\n",
              "      <th>1</th>\n",
              "      <td>4.9</td>\n",
              "      <td>3.0</td>\n",
              "      <td>1.4</td>\n",
              "      <td>0.2</td>\n",
              "      <td>setosa</td>\n",
              "      <td>1</td>\n",
              "      <td>1</td>\n",
              "      <td>1</td>\n",
              "    </tr>\n",
              "    <tr>\n",
              "      <th>2</th>\n",
              "      <td>4.7</td>\n",
              "      <td>3.2</td>\n",
              "      <td>1.3</td>\n",
              "      <td>0.2</td>\n",
              "      <td>setosa</td>\n",
              "      <td>1</td>\n",
              "      <td>1</td>\n",
              "      <td>1</td>\n",
              "    </tr>\n",
              "    <tr>\n",
              "      <th>3</th>\n",
              "      <td>4.6</td>\n",
              "      <td>3.1</td>\n",
              "      <td>1.5</td>\n",
              "      <td>0.2</td>\n",
              "      <td>setosa</td>\n",
              "      <td>1</td>\n",
              "      <td>1</td>\n",
              "      <td>1</td>\n",
              "    </tr>\n",
              "    <tr>\n",
              "      <th>4</th>\n",
              "      <td>5.0</td>\n",
              "      <td>3.6</td>\n",
              "      <td>1.4</td>\n",
              "      <td>0.2</td>\n",
              "      <td>setosa</td>\n",
              "      <td>1</td>\n",
              "      <td>1</td>\n",
              "      <td>1</td>\n",
              "    </tr>\n",
              "  </tbody>\n",
              "</table>\n",
              "</div>"
            ],
            "text/plain": [
              "   Sepal.Length  Sepal.Width  Petal.Length  Petal.Width Species  is_setosa  \\\n",
              "0           5.1          3.5           1.4          0.2  setosa          1   \n",
              "1           4.9          3.0           1.4          0.2  setosa          1   \n",
              "2           4.7          3.2           1.3          0.2  setosa          1   \n",
              "3           4.6          3.1           1.5          0.2  setosa          1   \n",
              "4           5.0          3.6           1.4          0.2  setosa          1   \n",
              "\n",
              "   is_setosa_2  is_setosa_3  \n",
              "0            1            1  \n",
              "1            1            1  \n",
              "2            1            1  \n",
              "3            1            1  \n",
              "4            1            1  "
            ]
          },
          "execution_count": 16,
          "metadata": {},
          "output_type": "execute_result"
        }
      ],
      "source": [
        "df['is_setosa_2'] = (df['Species'] == 'setosa') + 0\n",
        "df['is_setosa_3'] = (df['Species'] == 'setosa') * 1\n",
        "df.head()"
      ]
    },
    {
      "cell_type": "code",
      "execution_count": null,
      "id": "4f6ae461",
      "metadata": {
        "id": "4f6ae461"
      },
      "outputs": [],
      "source": [
        "#df.rename({originalname:newname})"
      ]
    },
    {
      "cell_type": "code",
      "execution_count": null,
      "id": "b628e216",
      "metadata": {
        "id": "b628e216",
        "outputId": "63d5a6a3-ee11-4a13-ec2f-0ad23260bda7"
      },
      "outputs": [
        {
          "data": {
            "text/html": [
              "<div>\n",
              "<style scoped>\n",
              "    .dataframe tbody tr th:only-of-type {\n",
              "        vertical-align: middle;\n",
              "    }\n",
              "\n",
              "    .dataframe tbody tr th {\n",
              "        vertical-align: top;\n",
              "    }\n",
              "\n",
              "    .dataframe thead th {\n",
              "        text-align: right;\n",
              "    }\n",
              "</style>\n",
              "<table border=\"1\" class=\"dataframe\">\n",
              "  <thead>\n",
              "    <tr style=\"text-align: right;\">\n",
              "      <th></th>\n",
              "      <th>SL</th>\n",
              "      <th>Sepal.Width</th>\n",
              "      <th>Petal.Length</th>\n",
              "      <th>Petal.Width</th>\n",
              "      <th>Species</th>\n",
              "      <th>is_setosa</th>\n",
              "      <th>is_setosa_2</th>\n",
              "      <th>is_setosa_3</th>\n",
              "    </tr>\n",
              "  </thead>\n",
              "  <tbody>\n",
              "    <tr>\n",
              "      <th>0</th>\n",
              "      <td>5.1</td>\n",
              "      <td>3.5</td>\n",
              "      <td>1.4</td>\n",
              "      <td>0.2</td>\n",
              "      <td>setosa</td>\n",
              "      <td>1</td>\n",
              "      <td>1</td>\n",
              "      <td>1</td>\n",
              "    </tr>\n",
              "    <tr>\n",
              "      <th>1</th>\n",
              "      <td>4.9</td>\n",
              "      <td>3.0</td>\n",
              "      <td>1.4</td>\n",
              "      <td>0.2</td>\n",
              "      <td>setosa</td>\n",
              "      <td>1</td>\n",
              "      <td>1</td>\n",
              "      <td>1</td>\n",
              "    </tr>\n",
              "  </tbody>\n",
              "</table>\n",
              "</div>"
            ],
            "text/plain": [
              "    SL  Sepal.Width  Petal.Length  Petal.Width Species  is_setosa  \\\n",
              "0  5.1          3.5           1.4          0.2  setosa          1   \n",
              "1  4.9          3.0           1.4          0.2  setosa          1   \n",
              "\n",
              "   is_setosa_2  is_setosa_3  \n",
              "0            1            1  \n",
              "1            1            1  "
            ]
          },
          "execution_count": 23,
          "metadata": {},
          "output_type": "execute_result"
        }
      ],
      "source": [
        "df = df.rename(columns = {'Sepal.Length': 'SL'})\n",
        "df.head(2)"
      ]
    },
    {
      "cell_type": "code",
      "execution_count": null,
      "id": "f095528e",
      "metadata": {
        "id": "f095528e"
      },
      "outputs": [],
      "source": [
        "#pd.apply(func = 'functionname') : r or c 방향(axis = 0, 1)으로 일괄 계산. lambda 사용,,,\n",
        "#pd.astype() : 시리즈 속성 변경(int, float, str)"
      ]
    },
    {
      "cell_type": "code",
      "execution_count": null,
      "id": "0b544f1c",
      "metadata": {
        "id": "0b544f1c",
        "outputId": "72c9a51d-e17e-4e43-ef81-13ba677c36ff"
      },
      "outputs": [
        {
          "data": {
            "text/html": [
              "<div>\n",
              "<style scoped>\n",
              "    .dataframe tbody tr th:only-of-type {\n",
              "        vertical-align: middle;\n",
              "    }\n",
              "\n",
              "    .dataframe tbody tr th {\n",
              "        vertical-align: top;\n",
              "    }\n",
              "\n",
              "    .dataframe thead th {\n",
              "        text-align: right;\n",
              "    }\n",
              "</style>\n",
              "<table border=\"1\" class=\"dataframe\">\n",
              "  <thead>\n",
              "    <tr style=\"text-align: right;\">\n",
              "      <th></th>\n",
              "      <th>datetime</th>\n",
              "      <th>season</th>\n",
              "      <th>holiday</th>\n",
              "      <th>workingday</th>\n",
              "      <th>weather</th>\n",
              "      <th>temp</th>\n",
              "      <th>atemp</th>\n",
              "      <th>humidity</th>\n",
              "      <th>windspeed</th>\n",
              "      <th>casual</th>\n",
              "      <th>registered</th>\n",
              "      <th>count</th>\n",
              "    </tr>\n",
              "  </thead>\n",
              "  <tbody>\n",
              "    <tr>\n",
              "      <th>0</th>\n",
              "      <td>2011-01-01 00:00:00</td>\n",
              "      <td>1</td>\n",
              "      <td>0</td>\n",
              "      <td>0</td>\n",
              "      <td>1</td>\n",
              "      <td>9.84</td>\n",
              "      <td>14.395</td>\n",
              "      <td>81</td>\n",
              "      <td>0.0</td>\n",
              "      <td>3</td>\n",
              "      <td>13</td>\n",
              "      <td>16</td>\n",
              "    </tr>\n",
              "    <tr>\n",
              "      <th>1</th>\n",
              "      <td>2011-01-01 01:00:00</td>\n",
              "      <td>1</td>\n",
              "      <td>0</td>\n",
              "      <td>0</td>\n",
              "      <td>1</td>\n",
              "      <td>9.02</td>\n",
              "      <td>13.635</td>\n",
              "      <td>80</td>\n",
              "      <td>0.0</td>\n",
              "      <td>8</td>\n",
              "      <td>32</td>\n",
              "      <td>40</td>\n",
              "    </tr>\n",
              "  </tbody>\n",
              "</table>\n",
              "</div>"
            ],
            "text/plain": [
              "              datetime  season  holiday  workingday  weather  temp   atemp  \\\n",
              "0  2011-01-01 00:00:00       1        0           0        1  9.84  14.395   \n",
              "1  2011-01-01 01:00:00       1        0           0        1  9.02  13.635   \n",
              "\n",
              "   humidity  windspeed  casual  registered  count  \n",
              "0        81        0.0       3          13     16  \n",
              "1        80        0.0       8          32     40  "
            ]
          },
          "execution_count": 27,
          "metadata": {},
          "output_type": "execute_result"
        }
      ],
      "source": [
        "bike = pd.read_csv(\"bike.csv\")\n",
        "bike.head(2)"
      ]
    },
    {
      "cell_type": "code",
      "execution_count": null,
      "id": "83f78b1a",
      "metadata": {
        "id": "83f78b1a",
        "outputId": "66924050-59dd-40c8-9a36-05b2749e1bd4"
      },
      "outputs": [
        {
          "data": {
            "text/plain": [
              "Index(['datetime', 'season', 'holiday', 'workingday', 'weather', 'temp',\n",
              "       'atemp', 'humidity', 'windspeed', 'casual', 'registered', 'count'],\n",
              "      dtype='object')"
            ]
          },
          "execution_count": 30,
          "metadata": {},
          "output_type": "execute_result"
        }
      ],
      "source": [
        "bike.columns"
      ]
    },
    {
      "cell_type": "code",
      "execution_count": null,
      "id": "1efea7e9",
      "metadata": {
        "id": "1efea7e9",
        "outputId": "f8065441-f92d-4be8-b439-6edca3375e0c"
      },
      "outputs": [
        {
          "name": "stdout",
          "output_type": "stream",
          "text": [
            "   casual  registered\n",
            "0       3          13\n",
            "1       8          32\n",
            "2       5          27\n",
            "3       3          10\n",
            "   casual  registered\n",
            "0       3          13\n",
            "1       8          32\n",
            "2       5          27\n",
            "3       3          10\n",
            "4       0           1\n",
            "   casual  registered\n",
            "0       3          13\n",
            "1       8          32\n",
            "2       5          27\n",
            "3       3          10\n",
            "4       0           1\n",
            "5\n"
          ]
        }
      ],
      "source": [
        "bike_sub = bike.iloc[:4, 9:11]\n",
        "print(bike_sub)\n",
        "bike_sub = bike.loc[:4, ['casual', 'registered']]\n",
        "print(bike_sub)\n",
        "bike_sub = bike.loc[:4, 'casual':'registered']\n",
        "print(bike_sub)\n",
        "print(len(bike_sub))"
      ]
    },
    {
      "cell_type": "code",
      "execution_count": null,
      "id": "5f5d77fd",
      "metadata": {
        "id": "5f5d77fd",
        "outputId": "1e2b1bf7-1d22-4db6-9d8d-561eb840ffb1"
      },
      "outputs": [
        {
          "data": {
            "text/plain": [
              "casual        19\n",
              "registered    83\n",
              "dtype: int64"
            ]
          },
          "execution_count": 37,
          "metadata": {},
          "output_type": "execute_result"
        }
      ],
      "source": [
        "bike_sub.sum()"
      ]
    },
    {
      "cell_type": "code",
      "execution_count": null,
      "id": "2f728f94",
      "metadata": {
        "id": "2f728f94",
        "outputId": "96422348-0873-4427-b91f-9d680bd56837"
      },
      "outputs": [
        {
          "data": {
            "text/plain": [
              "0    16\n",
              "1    40\n",
              "2    32\n",
              "3    13\n",
              "4     1\n",
              "dtype: int64"
            ]
          },
          "execution_count": 36,
          "metadata": {},
          "output_type": "execute_result"
        }
      ],
      "source": [
        "bike_sub.sum(axis = 1)"
      ]
    },
    {
      "cell_type": "code",
      "execution_count": null,
      "id": "473d8c49",
      "metadata": {
        "id": "473d8c49",
        "outputId": "cceddc41-9470-4ec9-9ad5-50f7501a4f93"
      },
      "outputs": [
        {
          "data": {
            "text/plain": [
              "casual        19\n",
              "registered    83\n",
              "dtype: int64"
            ]
          },
          "execution_count": 39,
          "metadata": {},
          "output_type": "execute_result"
        }
      ],
      "source": [
        "bike_sub.apply(func = sum)"
      ]
    },
    {
      "cell_type": "code",
      "execution_count": null,
      "id": "009a66bb",
      "metadata": {
        "id": "009a66bb",
        "outputId": "7d1d36cf-15cb-4093-ebe7-89fe85b70e83"
      },
      "outputs": [
        {
          "data": {
            "text/plain": [
              "0    16\n",
              "1    40\n",
              "2    32\n",
              "3    13\n",
              "4     1\n",
              "dtype: int64"
            ]
          },
          "execution_count": 40,
          "metadata": {},
          "output_type": "execute_result"
        }
      ],
      "source": [
        "bike_sub.apply(func = sum, axis = 1)"
      ]
    },
    {
      "cell_type": "code",
      "execution_count": null,
      "id": "39dc6222",
      "metadata": {
        "id": "39dc6222",
        "outputId": "fac2a7cf-875d-4a8e-81d7-a64b1ef39fc0"
      },
      "outputs": [
        {
          "data": {
            "text/plain": [
              "casual         3.8\n",
              "registered    16.6\n",
              "dtype: float64"
            ]
          },
          "execution_count": 41,
          "metadata": {},
          "output_type": "execute_result"
        }
      ],
      "source": [
        "bike_sub.apply(func = pd.Series.mean)"
      ]
    },
    {
      "cell_type": "code",
      "execution_count": null,
      "id": "0c9e7384",
      "metadata": {
        "id": "0c9e7384",
        "outputId": "be3b02b2-ae3e-4934-f970-4e542dca98b0"
      },
      "outputs": [
        {
          "data": {
            "text/plain": [
              "casual         4\n",
              "registered    17\n",
              "dtype: int64"
            ]
          },
          "execution_count": 44,
          "metadata": {},
          "output_type": "execute_result"
        }
      ],
      "source": [
        "bike_sub.apply(func = lambda x: round(x.mean()))"
      ]
    },
    {
      "cell_type": "code",
      "execution_count": null,
      "id": "c0170610",
      "metadata": {
        "id": "c0170610",
        "outputId": "077877cc-4a28-4ff3-ed1d-67b55f6ca64d"
      },
      "outputs": [
        {
          "name": "stdout",
          "output_type": "stream",
          "text": [
            "<class 'pandas.core.frame.DataFrame'>\n",
            "RangeIndex: 5 entries, 0 to 4\n",
            "Data columns (total 2 columns):\n",
            " #   Column      Non-Null Count  Dtype\n",
            "---  ------      --------------  -----\n",
            " 0   casual      5 non-null      int64\n",
            " 1   registered  5 non-null      int64\n",
            "dtypes: int64(2)\n",
            "memory usage: 208.0 bytes\n"
          ]
        }
      ],
      "source": [
        "bike_sub.info()"
      ]
    },
    {
      "cell_type": "code",
      "execution_count": null,
      "id": "ee166163",
      "metadata": {
        "id": "ee166163",
        "outputId": "bc4d8f97-24f4-4d4e-847c-fc9963488090"
      },
      "outputs": [
        {
          "data": {
            "text/plain": [
              "0    3\n",
              "1    8\n",
              "2    5\n",
              "3    3\n",
              "4    0\n",
              "Name: casual, dtype: int64"
            ]
          },
          "execution_count": 46,
          "metadata": {},
          "output_type": "execute_result"
        }
      ],
      "source": [
        "bike_sub['casual']"
      ]
    },
    {
      "cell_type": "code",
      "execution_count": null,
      "id": "aacf89de",
      "metadata": {
        "id": "aacf89de",
        "outputId": "6c60b69a-c58a-408e-f59c-74fa18042d12"
      },
      "outputs": [
        {
          "data": {
            "text/plain": [
              "0    3대\n",
              "1    8대\n",
              "2    5대\n",
              "3    3대\n",
              "4    0대\n",
              "Name: casual, dtype: object"
            ]
          },
          "execution_count": 49,
          "metadata": {},
          "output_type": "execute_result"
        }
      ],
      "source": [
        "bike_sub['casual'].astype('str') + '대'"
      ]
    },
    {
      "cell_type": "code",
      "execution_count": null,
      "id": "2ba654da",
      "metadata": {
        "id": "2ba654da",
        "outputId": "9470477b-a15c-4e10-ccaa-e93864bfbf2e"
      },
      "outputs": [
        {
          "data": {
            "text/html": [
              "<div>\n",
              "<style scoped>\n",
              "    .dataframe tbody tr th:only-of-type {\n",
              "        vertical-align: middle;\n",
              "    }\n",
              "\n",
              "    .dataframe tbody tr th {\n",
              "        vertical-align: top;\n",
              "    }\n",
              "\n",
              "    .dataframe thead th {\n",
              "        text-align: right;\n",
              "    }\n",
              "</style>\n",
              "<table border=\"1\" class=\"dataframe\">\n",
              "  <thead>\n",
              "    <tr style=\"text-align: right;\">\n",
              "      <th></th>\n",
              "      <th>datetime</th>\n",
              "      <th>season</th>\n",
              "      <th>holiday</th>\n",
              "      <th>workingday</th>\n",
              "      <th>weather</th>\n",
              "      <th>temp</th>\n",
              "      <th>atemp</th>\n",
              "      <th>humidity</th>\n",
              "      <th>windspeed</th>\n",
              "      <th>casual</th>\n",
              "      <th>registered</th>\n",
              "      <th>count</th>\n",
              "    </tr>\n",
              "  </thead>\n",
              "  <tbody>\n",
              "    <tr>\n",
              "      <th>0</th>\n",
              "      <td>2011-01-01 00:00:00</td>\n",
              "      <td>1</td>\n",
              "      <td>0</td>\n",
              "      <td>0</td>\n",
              "      <td>1</td>\n",
              "      <td>9.84</td>\n",
              "      <td>14.395</td>\n",
              "      <td>81</td>\n",
              "      <td>0.0</td>\n",
              "      <td>3</td>\n",
              "      <td>13</td>\n",
              "      <td>16</td>\n",
              "    </tr>\n",
              "    <tr>\n",
              "      <th>1</th>\n",
              "      <td>2011-01-01 01:00:00</td>\n",
              "      <td>1</td>\n",
              "      <td>0</td>\n",
              "      <td>0</td>\n",
              "      <td>1</td>\n",
              "      <td>9.02</td>\n",
              "      <td>13.635</td>\n",
              "      <td>80</td>\n",
              "      <td>0.0</td>\n",
              "      <td>8</td>\n",
              "      <td>32</td>\n",
              "      <td>40</td>\n",
              "    </tr>\n",
              "  </tbody>\n",
              "</table>\n",
              "</div>"
            ],
            "text/plain": [
              "              datetime  season  holiday  workingday  weather  temp   atemp  \\\n",
              "0  2011-01-01 00:00:00       1        0           0        1  9.84  14.395   \n",
              "1  2011-01-01 01:00:00       1        0           0        1  9.02  13.635   \n",
              "\n",
              "   humidity  windspeed  casual  registered  count  \n",
              "0        81        0.0       3          13     16  \n",
              "1        80        0.0       8          32     40  "
            ]
          },
          "execution_count": 50,
          "metadata": {},
          "output_type": "execute_result"
        }
      ],
      "source": [
        "bike.head(2)"
      ]
    },
    {
      "cell_type": "code",
      "execution_count": null,
      "id": "7e6daddd",
      "metadata": {
        "id": "7e6daddd",
        "outputId": "b7767b9a-a55e-4d68-ba31-a3e30ac8bf79"
      },
      "outputs": [
        {
          "data": {
            "text/plain": [
              "0    2011-01-01 00:00:00\n",
              "1    2011-01-01 01:00:00\n",
              "2    2011-01-01 02:00:00\n",
              "Name: datetime, dtype: object"
            ]
          },
          "execution_count": 51,
          "metadata": {},
          "output_type": "execute_result"
        }
      ],
      "source": [
        "bike['datetime'][:3]"
      ]
    },
    {
      "cell_type": "code",
      "execution_count": null,
      "id": "8455e6e2",
      "metadata": {
        "id": "8455e6e2",
        "outputId": "a48f5032-ac49-4527-bfea-8db6d8783e38"
      },
      "outputs": [
        {
          "data": {
            "text/plain": [
              "0    2011\n",
              "1    2011\n",
              "2    2011\n",
              "Name: datetime, dtype: object"
            ]
          },
          "execution_count": 52,
          "metadata": {},
          "output_type": "execute_result"
        }
      ],
      "source": [
        "bike['datetime'][:3].str.slice(0, 4)"
      ]
    },
    {
      "cell_type": "code",
      "execution_count": null,
      "id": "de6a2d32",
      "metadata": {
        "id": "de6a2d32",
        "outputId": "9ca4a927-f850-4d7f-964b-2c80b2987f6b"
      },
      "outputs": [
        {
          "data": {
            "text/plain": [
              "0    01\n",
              "1    01\n",
              "2    01\n",
              "Name: datetime, dtype: object"
            ]
          },
          "execution_count": 53,
          "metadata": {},
          "output_type": "execute_result"
        }
      ],
      "source": [
        "bike['datetime'][:3].str.slice(5, 7)"
      ]
    },
    {
      "cell_type": "code",
      "execution_count": null,
      "id": "ef986600",
      "metadata": {
        "id": "ef986600"
      },
      "outputs": [],
      "source": [
        "#pd.to_datetime()"
      ]
    },
    {
      "cell_type": "code",
      "execution_count": null,
      "id": "595cc9fe",
      "metadata": {
        "id": "595cc9fe",
        "outputId": "1b50630a-852f-4c57-9b2e-ba3c31950d14"
      },
      "outputs": [
        {
          "data": {
            "text/plain": [
              "0   2011-01-01 00:00:00\n",
              "1   2011-01-01 01:00:00\n",
              "2   2011-01-01 02:00:00\n",
              "Name: datetime, dtype: datetime64[ns]"
            ]
          },
          "execution_count": 55,
          "metadata": {},
          "output_type": "execute_result"
        }
      ],
      "source": [
        "bike_time = pd.to_datetime(bike['datetime'][:3])\n",
        "bike_time"
      ]
    },
    {
      "cell_type": "code",
      "execution_count": null,
      "id": "0d7e20b8",
      "metadata": {
        "id": "0d7e20b8",
        "outputId": "8aee4184-ce70-4446-f69e-4bc24ba5502b"
      },
      "outputs": [
        {
          "name": "stdout",
          "output_type": "stream",
          "text": [
            "0    2011\n",
            "1    2011\n",
            "2    2011\n",
            "Name: datetime, dtype: int64\n",
            "0    1\n",
            "1    1\n",
            "2    1\n",
            "Name: datetime, dtype: int64\n",
            "0    1\n",
            "1    1\n",
            "2    1\n",
            "Name: datetime, dtype: int64\n"
          ]
        }
      ],
      "source": [
        "print(bike_time.dt.year)\n",
        "print(bike_time.dt.month)\n",
        "print(bike_time.dt.day)"
      ]
    },
    {
      "cell_type": "code",
      "execution_count": null,
      "id": "68b8d98e",
      "metadata": {
        "id": "68b8d98e"
      },
      "outputs": [],
      "source": [
        "#pd.get_dummies() : 가변수 생성"
      ]
    },
    {
      "cell_type": "code",
      "execution_count": null,
      "id": "6a514a31",
      "metadata": {
        "id": "6a514a31",
        "outputId": "6e2e9fcb-c330-461a-e38f-97dfdd7a6c55"
      },
      "outputs": [
        {
          "data": {
            "text/html": [
              "<div>\n",
              "<style scoped>\n",
              "    .dataframe tbody tr th:only-of-type {\n",
              "        vertical-align: middle;\n",
              "    }\n",
              "\n",
              "    .dataframe tbody tr th {\n",
              "        vertical-align: top;\n",
              "    }\n",
              "\n",
              "    .dataframe thead th {\n",
              "        text-align: right;\n",
              "    }\n",
              "</style>\n",
              "<table border=\"1\" class=\"dataframe\">\n",
              "  <thead>\n",
              "    <tr style=\"text-align: right;\">\n",
              "      <th></th>\n",
              "      <th>datetime</th>\n",
              "      <th>season</th>\n",
              "      <th>holiday</th>\n",
              "      <th>workingday</th>\n",
              "      <th>weather</th>\n",
              "      <th>temp</th>\n",
              "      <th>atemp</th>\n",
              "      <th>humidity</th>\n",
              "      <th>windspeed</th>\n",
              "      <th>casual</th>\n",
              "      <th>registered</th>\n",
              "      <th>count</th>\n",
              "    </tr>\n",
              "  </thead>\n",
              "  <tbody>\n",
              "    <tr>\n",
              "      <th>0</th>\n",
              "      <td>2011-01-01 00:00:00</td>\n",
              "      <td>1</td>\n",
              "      <td>0</td>\n",
              "      <td>0</td>\n",
              "      <td>1</td>\n",
              "      <td>9.84</td>\n",
              "      <td>14.395</td>\n",
              "      <td>81</td>\n",
              "      <td>0.0</td>\n",
              "      <td>3</td>\n",
              "      <td>13</td>\n",
              "      <td>16</td>\n",
              "    </tr>\n",
              "    <tr>\n",
              "      <th>1</th>\n",
              "      <td>2011-01-01 01:00:00</td>\n",
              "      <td>1</td>\n",
              "      <td>0</td>\n",
              "      <td>0</td>\n",
              "      <td>1</td>\n",
              "      <td>9.02</td>\n",
              "      <td>13.635</td>\n",
              "      <td>80</td>\n",
              "      <td>0.0</td>\n",
              "      <td>8</td>\n",
              "      <td>32</td>\n",
              "      <td>40</td>\n",
              "    </tr>\n",
              "  </tbody>\n",
              "</table>\n",
              "</div>"
            ],
            "text/plain": [
              "              datetime  season  holiday  workingday  weather  temp   atemp  \\\n",
              "0  2011-01-01 00:00:00       1        0           0        1  9.84  14.395   \n",
              "1  2011-01-01 01:00:00       1        0           0        1  9.02  13.635   \n",
              "\n",
              "   humidity  windspeed  casual  registered  count  \n",
              "0        81        0.0       3          13     16  \n",
              "1        80        0.0       8          32     40  "
            ]
          },
          "execution_count": 57,
          "metadata": {},
          "output_type": "execute_result"
        }
      ],
      "source": [
        "bike.head(2)"
      ]
    },
    {
      "cell_type": "code",
      "execution_count": null,
      "id": "e0fe3e02",
      "metadata": {
        "id": "e0fe3e02",
        "outputId": "1af15438-da7b-49eb-8e79-1b784adaf1fd"
      },
      "outputs": [
        {
          "data": {
            "text/html": [
              "<div>\n",
              "<style scoped>\n",
              "    .dataframe tbody tr th:only-of-type {\n",
              "        vertical-align: middle;\n",
              "    }\n",
              "\n",
              "    .dataframe tbody tr th {\n",
              "        vertical-align: top;\n",
              "    }\n",
              "\n",
              "    .dataframe thead th {\n",
              "        text-align: right;\n",
              "    }\n",
              "</style>\n",
              "<table border=\"1\" class=\"dataframe\">\n",
              "  <thead>\n",
              "    <tr style=\"text-align: right;\">\n",
              "      <th></th>\n",
              "      <th>datetime</th>\n",
              "      <th>holiday</th>\n",
              "      <th>workingday</th>\n",
              "      <th>weather</th>\n",
              "      <th>temp</th>\n",
              "      <th>atemp</th>\n",
              "      <th>humidity</th>\n",
              "      <th>windspeed</th>\n",
              "      <th>casual</th>\n",
              "      <th>registered</th>\n",
              "      <th>count</th>\n",
              "      <th>season_2</th>\n",
              "      <th>season_3</th>\n",
              "      <th>season_4</th>\n",
              "    </tr>\n",
              "  </thead>\n",
              "  <tbody>\n",
              "    <tr>\n",
              "      <th>0</th>\n",
              "      <td>2011-01-01 00:00:00</td>\n",
              "      <td>0</td>\n",
              "      <td>0</td>\n",
              "      <td>1</td>\n",
              "      <td>9.84</td>\n",
              "      <td>14.395</td>\n",
              "      <td>81</td>\n",
              "      <td>0.0</td>\n",
              "      <td>3</td>\n",
              "      <td>13</td>\n",
              "      <td>16</td>\n",
              "      <td>0</td>\n",
              "      <td>0</td>\n",
              "      <td>0</td>\n",
              "    </tr>\n",
              "    <tr>\n",
              "      <th>1</th>\n",
              "      <td>2011-01-01 01:00:00</td>\n",
              "      <td>0</td>\n",
              "      <td>0</td>\n",
              "      <td>1</td>\n",
              "      <td>9.02</td>\n",
              "      <td>13.635</td>\n",
              "      <td>80</td>\n",
              "      <td>0.0</td>\n",
              "      <td>8</td>\n",
              "      <td>32</td>\n",
              "      <td>40</td>\n",
              "      <td>0</td>\n",
              "      <td>0</td>\n",
              "      <td>0</td>\n",
              "    </tr>\n",
              "  </tbody>\n",
              "</table>\n",
              "</div>"
            ],
            "text/plain": [
              "              datetime  holiday  workingday  weather  temp   atemp  humidity  \\\n",
              "0  2011-01-01 00:00:00        0           0        1  9.84  14.395        81   \n",
              "1  2011-01-01 01:00:00        0           0        1  9.02  13.635        80   \n",
              "\n",
              "   windspeed  casual  registered  count  season_2  season_3  season_4  \n",
              "0        0.0       3          13     16         0         0         0  \n",
              "1        0.0       8          32     40         0         0         0  "
            ]
          },
          "execution_count": 62,
          "metadata": {},
          "output_type": "execute_result"
        }
      ],
      "source": [
        "bike_dum = pd.get_dummies(data = bike, columns=['season'],\n",
        "                         drop_first = True)\n",
        "bike_dum.head(2)"
      ]
    },
    {
      "cell_type": "code",
      "execution_count": null,
      "id": "879d245d",
      "metadata": {
        "id": "879d245d"
      },
      "outputs": [],
      "source": []
    },
    {
      "cell_type": "code",
      "execution_count": null,
      "id": "462db147",
      "metadata": {
        "id": "462db147"
      },
      "outputs": [],
      "source": [
        "'''\n",
        "데이터 병합\n",
        "\n",
        ">바인딩\n",
        ">조인\n",
        " - inner join : 합집합\n",
        " - left join : A 유지 B = 합집합 반환\n",
        " \n",
        "'''"
      ]
    },
    {
      "cell_type": "code",
      "execution_count": null,
      "id": "dc178d69",
      "metadata": {
        "id": "dc178d69"
      },
      "outputs": [],
      "source": [
        "'''\n",
        "pd. reset_index() : 기존 인덱스 초기화(0~row개수-1), 시리즈->데이터프레임 변환\n",
        "pd.set_index() : 특정 변수를 인덱스로 지정\n",
        "'''"
      ]
    },
    {
      "cell_type": "code",
      "execution_count": null,
      "id": "d36a2b0b",
      "metadata": {
        "id": "d36a2b0b"
      },
      "outputs": [],
      "source": []
    },
    {
      "cell_type": "code",
      "execution_count": null,
      "id": "2590be0d",
      "metadata": {
        "id": "2590be0d",
        "outputId": "099dfe7b-ebb8-49d5-b60f-4690a494d4fd"
      },
      "outputs": [
        {
          "data": {
            "text/html": [
              "<div>\n",
              "<style scoped>\n",
              "    .dataframe tbody tr th:only-of-type {\n",
              "        vertical-align: middle;\n",
              "    }\n",
              "\n",
              "    .dataframe tbody tr th {\n",
              "        vertical-align: top;\n",
              "    }\n",
              "\n",
              "    .dataframe thead th {\n",
              "        text-align: right;\n",
              "    }\n",
              "</style>\n",
              "<table border=\"1\" class=\"dataframe\">\n",
              "  <thead>\n",
              "    <tr style=\"text-align: right;\">\n",
              "      <th></th>\n",
              "      <th>datetime</th>\n",
              "      <th>season</th>\n",
              "      <th>holiday</th>\n",
              "      <th>workingday</th>\n",
              "      <th>weather</th>\n",
              "      <th>temp</th>\n",
              "      <th>atemp</th>\n",
              "      <th>humidity</th>\n",
              "      <th>windspeed</th>\n",
              "      <th>casual</th>\n",
              "      <th>registered</th>\n",
              "      <th>count</th>\n",
              "    </tr>\n",
              "  </thead>\n",
              "  <tbody>\n",
              "    <tr>\n",
              "      <th>0</th>\n",
              "      <td>2011-01-01 00:00:00</td>\n",
              "      <td>1</td>\n",
              "      <td>0</td>\n",
              "      <td>0</td>\n",
              "      <td>1</td>\n",
              "      <td>9.84</td>\n",
              "      <td>14.395</td>\n",
              "      <td>81</td>\n",
              "      <td>0.0</td>\n",
              "      <td>3</td>\n",
              "      <td>13</td>\n",
              "      <td>16</td>\n",
              "    </tr>\n",
              "    <tr>\n",
              "      <th>1</th>\n",
              "      <td>2011-01-01 01:00:00</td>\n",
              "      <td>1</td>\n",
              "      <td>0</td>\n",
              "      <td>0</td>\n",
              "      <td>1</td>\n",
              "      <td>9.02</td>\n",
              "      <td>13.635</td>\n",
              "      <td>80</td>\n",
              "      <td>0.0</td>\n",
              "      <td>8</td>\n",
              "      <td>32</td>\n",
              "      <td>40</td>\n",
              "    </tr>\n",
              "  </tbody>\n",
              "</table>\n",
              "</div>"
            ],
            "text/plain": [
              "              datetime  season  holiday  workingday  weather  temp   atemp  \\\n",
              "0  2011-01-01 00:00:00       1        0           0        1  9.84  14.395   \n",
              "1  2011-01-01 01:00:00       1        0           0        1  9.02  13.635   \n",
              "\n",
              "   humidity  windspeed  casual  registered  count  \n",
              "0        81        0.0       3          13     16  \n",
              "1        80        0.0       8          32     40  "
            ]
          },
          "execution_count": 64,
          "metadata": {},
          "output_type": "execute_result"
        }
      ],
      "source": [
        "bike = pd.read_csv('bike.csv')\n",
        "bike.head(2)"
      ]
    },
    {
      "cell_type": "code",
      "execution_count": null,
      "id": "963cc239",
      "metadata": {
        "id": "963cc239"
      },
      "outputs": [],
      "source": [
        "#bike.sample()"
      ]
    },
    {
      "cell_type": "code",
      "execution_count": null,
      "id": "e268b5da",
      "metadata": {
        "id": "e268b5da",
        "outputId": "b9850f2f-35ac-4f27-d445-26b4abe8527b"
      },
      "outputs": [
        {
          "data": {
            "text/html": [
              "<div>\n",
              "<style scoped>\n",
              "    .dataframe tbody tr th:only-of-type {\n",
              "        vertical-align: middle;\n",
              "    }\n",
              "\n",
              "    .dataframe tbody tr th {\n",
              "        vertical-align: top;\n",
              "    }\n",
              "\n",
              "    .dataframe thead th {\n",
              "        text-align: right;\n",
              "    }\n",
              "</style>\n",
              "<table border=\"1\" class=\"dataframe\">\n",
              "  <thead>\n",
              "    <tr style=\"text-align: right;\">\n",
              "      <th></th>\n",
              "      <th>datetime</th>\n",
              "      <th>season</th>\n",
              "      <th>holiday</th>\n",
              "      <th>workingday</th>\n",
              "      <th>weather</th>\n",
              "      <th>temp</th>\n",
              "      <th>atemp</th>\n",
              "      <th>humidity</th>\n",
              "      <th>windspeed</th>\n",
              "      <th>casual</th>\n",
              "      <th>registered</th>\n",
              "      <th>count</th>\n",
              "    </tr>\n",
              "  </thead>\n",
              "  <tbody>\n",
              "    <tr>\n",
              "      <th>6495</th>\n",
              "      <td>2012-03-07 21:00:00</td>\n",
              "      <td>1</td>\n",
              "      <td>0</td>\n",
              "      <td>1</td>\n",
              "      <td>1</td>\n",
              "      <td>18.04</td>\n",
              "      <td>21.970</td>\n",
              "      <td>62</td>\n",
              "      <td>16.9979</td>\n",
              "      <td>11</td>\n",
              "      <td>177</td>\n",
              "      <td>188</td>\n",
              "    </tr>\n",
              "    <tr>\n",
              "      <th>7050</th>\n",
              "      <td>2012-04-12 03:00:00</td>\n",
              "      <td>2</td>\n",
              "      <td>0</td>\n",
              "      <td>1</td>\n",
              "      <td>1</td>\n",
              "      <td>13.12</td>\n",
              "      <td>15.150</td>\n",
              "      <td>61</td>\n",
              "      <td>16.9979</td>\n",
              "      <td>2</td>\n",
              "      <td>3</td>\n",
              "      <td>5</td>\n",
              "    </tr>\n",
              "    <tr>\n",
              "      <th>558</th>\n",
              "      <td>2011-02-06 10:00:00</td>\n",
              "      <td>1</td>\n",
              "      <td>0</td>\n",
              "      <td>0</td>\n",
              "      <td>1</td>\n",
              "      <td>12.30</td>\n",
              "      <td>14.395</td>\n",
              "      <td>52</td>\n",
              "      <td>16.9979</td>\n",
              "      <td>15</td>\n",
              "      <td>74</td>\n",
              "      <td>89</td>\n",
              "    </tr>\n",
              "    <tr>\n",
              "      <th>5085</th>\n",
              "      <td>2011-12-05 23:00:00</td>\n",
              "      <td>4</td>\n",
              "      <td>0</td>\n",
              "      <td>1</td>\n",
              "      <td>2</td>\n",
              "      <td>18.86</td>\n",
              "      <td>22.725</td>\n",
              "      <td>88</td>\n",
              "      <td>8.9981</td>\n",
              "      <td>8</td>\n",
              "      <td>54</td>\n",
              "      <td>62</td>\n",
              "    </tr>\n",
              "  </tbody>\n",
              "</table>\n",
              "</div>"
            ],
            "text/plain": [
              "                 datetime  season  holiday  workingday  weather   temp  \\\n",
              "6495  2012-03-07 21:00:00       1        0           1        1  18.04   \n",
              "7050  2012-04-12 03:00:00       2        0           1        1  13.12   \n",
              "558   2011-02-06 10:00:00       1        0           0        1  12.30   \n",
              "5085  2011-12-05 23:00:00       4        0           1        2  18.86   \n",
              "\n",
              "       atemp  humidity  windspeed  casual  registered  count  \n",
              "6495  21.970        62    16.9979      11         177    188  \n",
              "7050  15.150        61    16.9979       2           3      5  \n",
              "558   14.395        52    16.9979      15          74     89  \n",
              "5085  22.725        88     8.9981       8          54     62  "
            ]
          },
          "execution_count": 80,
          "metadata": {},
          "output_type": "execute_result"
        }
      ],
      "source": [
        "bike_sub = bike.sample(n = 4, random_state = 123)\n",
        "bike_sub"
      ]
    },
    {
      "cell_type": "code",
      "execution_count": null,
      "id": "5b55da5b",
      "metadata": {
        "id": "5b55da5b",
        "outputId": "e8cc3aa3-156d-411b-8b63-3c055f1919c4"
      },
      "outputs": [
        {
          "data": {
            "text/html": [
              "<div>\n",
              "<style scoped>\n",
              "    .dataframe tbody tr th:only-of-type {\n",
              "        vertical-align: middle;\n",
              "    }\n",
              "\n",
              "    .dataframe tbody tr th {\n",
              "        vertical-align: top;\n",
              "    }\n",
              "\n",
              "    .dataframe thead th {\n",
              "        text-align: right;\n",
              "    }\n",
              "</style>\n",
              "<table border=\"1\" class=\"dataframe\">\n",
              "  <thead>\n",
              "    <tr style=\"text-align: right;\">\n",
              "      <th></th>\n",
              "      <th>index</th>\n",
              "      <th>datetime</th>\n",
              "      <th>season</th>\n",
              "      <th>holiday</th>\n",
              "      <th>workingday</th>\n",
              "      <th>weather</th>\n",
              "      <th>temp</th>\n",
              "      <th>atemp</th>\n",
              "      <th>humidity</th>\n",
              "      <th>windspeed</th>\n",
              "      <th>casual</th>\n",
              "      <th>registered</th>\n",
              "      <th>count</th>\n",
              "    </tr>\n",
              "  </thead>\n",
              "  <tbody>\n",
              "    <tr>\n",
              "      <th>0</th>\n",
              "      <td>6495</td>\n",
              "      <td>2012-03-07 21:00:00</td>\n",
              "      <td>1</td>\n",
              "      <td>0</td>\n",
              "      <td>1</td>\n",
              "      <td>1</td>\n",
              "      <td>18.04</td>\n",
              "      <td>21.970</td>\n",
              "      <td>62</td>\n",
              "      <td>16.9979</td>\n",
              "      <td>11</td>\n",
              "      <td>177</td>\n",
              "      <td>188</td>\n",
              "    </tr>\n",
              "    <tr>\n",
              "      <th>1</th>\n",
              "      <td>7050</td>\n",
              "      <td>2012-04-12 03:00:00</td>\n",
              "      <td>2</td>\n",
              "      <td>0</td>\n",
              "      <td>1</td>\n",
              "      <td>1</td>\n",
              "      <td>13.12</td>\n",
              "      <td>15.150</td>\n",
              "      <td>61</td>\n",
              "      <td>16.9979</td>\n",
              "      <td>2</td>\n",
              "      <td>3</td>\n",
              "      <td>5</td>\n",
              "    </tr>\n",
              "    <tr>\n",
              "      <th>2</th>\n",
              "      <td>558</td>\n",
              "      <td>2011-02-06 10:00:00</td>\n",
              "      <td>1</td>\n",
              "      <td>0</td>\n",
              "      <td>0</td>\n",
              "      <td>1</td>\n",
              "      <td>12.30</td>\n",
              "      <td>14.395</td>\n",
              "      <td>52</td>\n",
              "      <td>16.9979</td>\n",
              "      <td>15</td>\n",
              "      <td>74</td>\n",
              "      <td>89</td>\n",
              "    </tr>\n",
              "    <tr>\n",
              "      <th>3</th>\n",
              "      <td>5085</td>\n",
              "      <td>2011-12-05 23:00:00</td>\n",
              "      <td>4</td>\n",
              "      <td>0</td>\n",
              "      <td>1</td>\n",
              "      <td>2</td>\n",
              "      <td>18.86</td>\n",
              "      <td>22.725</td>\n",
              "      <td>88</td>\n",
              "      <td>8.9981</td>\n",
              "      <td>8</td>\n",
              "      <td>54</td>\n",
              "      <td>62</td>\n",
              "    </tr>\n",
              "  </tbody>\n",
              "</table>\n",
              "</div>"
            ],
            "text/plain": [
              "   index             datetime  season  holiday  workingday  weather   temp  \\\n",
              "0   6495  2012-03-07 21:00:00       1        0           1        1  18.04   \n",
              "1   7050  2012-04-12 03:00:00       2        0           1        1  13.12   \n",
              "2    558  2011-02-06 10:00:00       1        0           0        1  12.30   \n",
              "3   5085  2011-12-05 23:00:00       4        0           1        2  18.86   \n",
              "\n",
              "    atemp  humidity  windspeed  casual  registered  count  \n",
              "0  21.970        62    16.9979      11         177    188  \n",
              "1  15.150        61    16.9979       2           3      5  \n",
              "2  14.395        52    16.9979      15          74     89  \n",
              "3  22.725        88     8.9981       8          54     62  "
            ]
          },
          "execution_count": 81,
          "metadata": {},
          "output_type": "execute_result"
        }
      ],
      "source": [
        "bike_sub.reset_index()"
      ]
    },
    {
      "cell_type": "code",
      "execution_count": null,
      "id": "d5b520ec",
      "metadata": {
        "id": "d5b520ec",
        "outputId": "0e0b30f2-ae92-4312-8836-f7888719f66d"
      },
      "outputs": [
        {
          "data": {
            "text/html": [
              "<div>\n",
              "<style scoped>\n",
              "    .dataframe tbody tr th:only-of-type {\n",
              "        vertical-align: middle;\n",
              "    }\n",
              "\n",
              "    .dataframe tbody tr th {\n",
              "        vertical-align: top;\n",
              "    }\n",
              "\n",
              "    .dataframe thead th {\n",
              "        text-align: right;\n",
              "    }\n",
              "</style>\n",
              "<table border=\"1\" class=\"dataframe\">\n",
              "  <thead>\n",
              "    <tr style=\"text-align: right;\">\n",
              "      <th></th>\n",
              "      <th>datetime</th>\n",
              "      <th>season</th>\n",
              "      <th>holiday</th>\n",
              "      <th>workingday</th>\n",
              "      <th>weather</th>\n",
              "      <th>temp</th>\n",
              "      <th>atemp</th>\n",
              "      <th>humidity</th>\n",
              "      <th>windspeed</th>\n",
              "      <th>casual</th>\n",
              "      <th>registered</th>\n",
              "      <th>count</th>\n",
              "    </tr>\n",
              "  </thead>\n",
              "  <tbody>\n",
              "    <tr>\n",
              "      <th>0</th>\n",
              "      <td>2012-03-07 21:00:00</td>\n",
              "      <td>1</td>\n",
              "      <td>0</td>\n",
              "      <td>1</td>\n",
              "      <td>1</td>\n",
              "      <td>18.04</td>\n",
              "      <td>21.970</td>\n",
              "      <td>62</td>\n",
              "      <td>16.9979</td>\n",
              "      <td>11</td>\n",
              "      <td>177</td>\n",
              "      <td>188</td>\n",
              "    </tr>\n",
              "    <tr>\n",
              "      <th>1</th>\n",
              "      <td>2012-04-12 03:00:00</td>\n",
              "      <td>2</td>\n",
              "      <td>0</td>\n",
              "      <td>1</td>\n",
              "      <td>1</td>\n",
              "      <td>13.12</td>\n",
              "      <td>15.150</td>\n",
              "      <td>61</td>\n",
              "      <td>16.9979</td>\n",
              "      <td>2</td>\n",
              "      <td>3</td>\n",
              "      <td>5</td>\n",
              "    </tr>\n",
              "    <tr>\n",
              "      <th>2</th>\n",
              "      <td>2011-02-06 10:00:00</td>\n",
              "      <td>1</td>\n",
              "      <td>0</td>\n",
              "      <td>0</td>\n",
              "      <td>1</td>\n",
              "      <td>12.30</td>\n",
              "      <td>14.395</td>\n",
              "      <td>52</td>\n",
              "      <td>16.9979</td>\n",
              "      <td>15</td>\n",
              "      <td>74</td>\n",
              "      <td>89</td>\n",
              "    </tr>\n",
              "    <tr>\n",
              "      <th>3</th>\n",
              "      <td>2011-12-05 23:00:00</td>\n",
              "      <td>4</td>\n",
              "      <td>0</td>\n",
              "      <td>1</td>\n",
              "      <td>2</td>\n",
              "      <td>18.86</td>\n",
              "      <td>22.725</td>\n",
              "      <td>88</td>\n",
              "      <td>8.9981</td>\n",
              "      <td>8</td>\n",
              "      <td>54</td>\n",
              "      <td>62</td>\n",
              "    </tr>\n",
              "  </tbody>\n",
              "</table>\n",
              "</div>"
            ],
            "text/plain": [
              "              datetime  season  holiday  workingday  weather   temp   atemp  \\\n",
              "0  2012-03-07 21:00:00       1        0           1        1  18.04  21.970   \n",
              "1  2012-04-12 03:00:00       2        0           1        1  13.12  15.150   \n",
              "2  2011-02-06 10:00:00       1        0           0        1  12.30  14.395   \n",
              "3  2011-12-05 23:00:00       4        0           1        2  18.86  22.725   \n",
              "\n",
              "   humidity  windspeed  casual  registered  count  \n",
              "0        62    16.9979      11         177    188  \n",
              "1        61    16.9979       2           3      5  \n",
              "2        52    16.9979      15          74     89  \n",
              "3        88     8.9981       8          54     62  "
            ]
          },
          "execution_count": 82,
          "metadata": {},
          "output_type": "execute_result"
        }
      ],
      "source": [
        "bike_sub.reset_index(drop = True)"
      ]
    },
    {
      "cell_type": "code",
      "execution_count": null,
      "id": "f09527a2",
      "metadata": {
        "id": "f09527a2",
        "outputId": "f5eda81c-a48f-403d-d91a-5461c3285c80"
      },
      "outputs": [
        {
          "data": {
            "text/html": [
              "<div>\n",
              "<style scoped>\n",
              "    .dataframe tbody tr th:only-of-type {\n",
              "        vertical-align: middle;\n",
              "    }\n",
              "\n",
              "    .dataframe tbody tr th {\n",
              "        vertical-align: top;\n",
              "    }\n",
              "\n",
              "    .dataframe thead th {\n",
              "        text-align: right;\n",
              "    }\n",
              "</style>\n",
              "<table border=\"1\" class=\"dataframe\">\n",
              "  <thead>\n",
              "    <tr style=\"text-align: right;\">\n",
              "      <th></th>\n",
              "      <th>season</th>\n",
              "      <th>holiday</th>\n",
              "      <th>workingday</th>\n",
              "      <th>weather</th>\n",
              "      <th>temp</th>\n",
              "      <th>atemp</th>\n",
              "      <th>humidity</th>\n",
              "      <th>windspeed</th>\n",
              "      <th>casual</th>\n",
              "      <th>registered</th>\n",
              "      <th>count</th>\n",
              "    </tr>\n",
              "    <tr>\n",
              "      <th>datetime</th>\n",
              "      <th></th>\n",
              "      <th></th>\n",
              "      <th></th>\n",
              "      <th></th>\n",
              "      <th></th>\n",
              "      <th></th>\n",
              "      <th></th>\n",
              "      <th></th>\n",
              "      <th></th>\n",
              "      <th></th>\n",
              "      <th></th>\n",
              "    </tr>\n",
              "  </thead>\n",
              "  <tbody>\n",
              "    <tr>\n",
              "      <th>2012-03-07 21:00:00</th>\n",
              "      <td>1</td>\n",
              "      <td>0</td>\n",
              "      <td>1</td>\n",
              "      <td>1</td>\n",
              "      <td>18.04</td>\n",
              "      <td>21.970</td>\n",
              "      <td>62</td>\n",
              "      <td>16.9979</td>\n",
              "      <td>11</td>\n",
              "      <td>177</td>\n",
              "      <td>188</td>\n",
              "    </tr>\n",
              "    <tr>\n",
              "      <th>2012-04-12 03:00:00</th>\n",
              "      <td>2</td>\n",
              "      <td>0</td>\n",
              "      <td>1</td>\n",
              "      <td>1</td>\n",
              "      <td>13.12</td>\n",
              "      <td>15.150</td>\n",
              "      <td>61</td>\n",
              "      <td>16.9979</td>\n",
              "      <td>2</td>\n",
              "      <td>3</td>\n",
              "      <td>5</td>\n",
              "    </tr>\n",
              "    <tr>\n",
              "      <th>2011-02-06 10:00:00</th>\n",
              "      <td>1</td>\n",
              "      <td>0</td>\n",
              "      <td>0</td>\n",
              "      <td>1</td>\n",
              "      <td>12.30</td>\n",
              "      <td>14.395</td>\n",
              "      <td>52</td>\n",
              "      <td>16.9979</td>\n",
              "      <td>15</td>\n",
              "      <td>74</td>\n",
              "      <td>89</td>\n",
              "    </tr>\n",
              "    <tr>\n",
              "      <th>2011-12-05 23:00:00</th>\n",
              "      <td>4</td>\n",
              "      <td>0</td>\n",
              "      <td>1</td>\n",
              "      <td>2</td>\n",
              "      <td>18.86</td>\n",
              "      <td>22.725</td>\n",
              "      <td>88</td>\n",
              "      <td>8.9981</td>\n",
              "      <td>8</td>\n",
              "      <td>54</td>\n",
              "      <td>62</td>\n",
              "    </tr>\n",
              "  </tbody>\n",
              "</table>\n",
              "</div>"
            ],
            "text/plain": [
              "                     season  holiday  workingday  weather   temp   atemp  \\\n",
              "datetime                                                                   \n",
              "2012-03-07 21:00:00       1        0           1        1  18.04  21.970   \n",
              "2012-04-12 03:00:00       2        0           1        1  13.12  15.150   \n",
              "2011-02-06 10:00:00       1        0           0        1  12.30  14.395   \n",
              "2011-12-05 23:00:00       4        0           1        2  18.86  22.725   \n",
              "\n",
              "                     humidity  windspeed  casual  registered  count  \n",
              "datetime                                                             \n",
              "2012-03-07 21:00:00        62    16.9979      11         177    188  \n",
              "2012-04-12 03:00:00        61    16.9979       2           3      5  \n",
              "2011-02-06 10:00:00        52    16.9979      15          74     89  \n",
              "2011-12-05 23:00:00        88     8.9981       8          54     62  "
            ]
          },
          "execution_count": 83,
          "metadata": {},
          "output_type": "execute_result"
        }
      ],
      "source": [
        "bike_sub = bike_sub.set_index('datetime')\n",
        "bike_sub"
      ]
    },
    {
      "cell_type": "code",
      "execution_count": null,
      "id": "a894b776",
      "metadata": {
        "id": "a894b776",
        "outputId": "c4d8b051-56f7-4f64-88fa-1071451dddb3"
      },
      "outputs": [
        {
          "data": {
            "text/html": [
              "<div>\n",
              "<style scoped>\n",
              "    .dataframe tbody tr th:only-of-type {\n",
              "        vertical-align: middle;\n",
              "    }\n",
              "\n",
              "    .dataframe tbody tr th {\n",
              "        vertical-align: top;\n",
              "    }\n",
              "\n",
              "    .dataframe thead th {\n",
              "        text-align: right;\n",
              "    }\n",
              "</style>\n",
              "<table border=\"1\" class=\"dataframe\">\n",
              "  <thead>\n",
              "    <tr style=\"text-align: right;\">\n",
              "      <th></th>\n",
              "      <th>datetime</th>\n",
              "      <th>season</th>\n",
              "      <th>holiday</th>\n",
              "      <th>workingday</th>\n",
              "      <th>weather</th>\n",
              "      <th>temp</th>\n",
              "      <th>atemp</th>\n",
              "      <th>humidity</th>\n",
              "      <th>windspeed</th>\n",
              "      <th>casual</th>\n",
              "      <th>registered</th>\n",
              "      <th>count</th>\n",
              "    </tr>\n",
              "  </thead>\n",
              "  <tbody>\n",
              "    <tr>\n",
              "      <th>0</th>\n",
              "      <td>2012-03-07 21:00:00</td>\n",
              "      <td>1</td>\n",
              "      <td>0</td>\n",
              "      <td>1</td>\n",
              "      <td>1</td>\n",
              "      <td>18.04</td>\n",
              "      <td>21.970</td>\n",
              "      <td>62</td>\n",
              "      <td>16.9979</td>\n",
              "      <td>11</td>\n",
              "      <td>177</td>\n",
              "      <td>188</td>\n",
              "    </tr>\n",
              "    <tr>\n",
              "      <th>1</th>\n",
              "      <td>2012-04-12 03:00:00</td>\n",
              "      <td>2</td>\n",
              "      <td>0</td>\n",
              "      <td>1</td>\n",
              "      <td>1</td>\n",
              "      <td>13.12</td>\n",
              "      <td>15.150</td>\n",
              "      <td>61</td>\n",
              "      <td>16.9979</td>\n",
              "      <td>2</td>\n",
              "      <td>3</td>\n",
              "      <td>5</td>\n",
              "    </tr>\n",
              "    <tr>\n",
              "      <th>2</th>\n",
              "      <td>2011-02-06 10:00:00</td>\n",
              "      <td>1</td>\n",
              "      <td>0</td>\n",
              "      <td>0</td>\n",
              "      <td>1</td>\n",
              "      <td>12.30</td>\n",
              "      <td>14.395</td>\n",
              "      <td>52</td>\n",
              "      <td>16.9979</td>\n",
              "      <td>15</td>\n",
              "      <td>74</td>\n",
              "      <td>89</td>\n",
              "    </tr>\n",
              "    <tr>\n",
              "      <th>3</th>\n",
              "      <td>2011-12-05 23:00:00</td>\n",
              "      <td>4</td>\n",
              "      <td>0</td>\n",
              "      <td>1</td>\n",
              "      <td>2</td>\n",
              "      <td>18.86</td>\n",
              "      <td>22.725</td>\n",
              "      <td>88</td>\n",
              "      <td>8.9981</td>\n",
              "      <td>8</td>\n",
              "      <td>54</td>\n",
              "      <td>62</td>\n",
              "    </tr>\n",
              "  </tbody>\n",
              "</table>\n",
              "</div>"
            ],
            "text/plain": [
              "              datetime  season  holiday  workingday  weather   temp   atemp  \\\n",
              "0  2012-03-07 21:00:00       1        0           1        1  18.04  21.970   \n",
              "1  2012-04-12 03:00:00       2        0           1        1  13.12  15.150   \n",
              "2  2011-02-06 10:00:00       1        0           0        1  12.30  14.395   \n",
              "3  2011-12-05 23:00:00       4        0           1        2  18.86  22.725   \n",
              "\n",
              "   humidity  windspeed  casual  registered  count  \n",
              "0        62    16.9979      11         177    188  \n",
              "1        61    16.9979       2           3      5  \n",
              "2        52    16.9979      15          74     89  \n",
              "3        88     8.9981       8          54     62  "
            ]
          },
          "execution_count": 84,
          "metadata": {},
          "output_type": "execute_result"
        }
      ],
      "source": [
        "bike_sub = bike_sub.reset_index()\n",
        "bike_sub"
      ]
    },
    {
      "cell_type": "code",
      "execution_count": null,
      "id": "0676b8e2",
      "metadata": {
        "id": "0676b8e2",
        "outputId": "23d91a18-5d20-441c-a110-c9152b0657ac"
      },
      "outputs": [
        {
          "name": "stdout",
          "output_type": "stream",
          "text": [
            "3\n",
            "3\n"
          ]
        }
      ],
      "source": [
        "bike_1 = bike.iloc[:3, :4]\n",
        "bike_2 = bike.iloc[5:8, :4]\n",
        "print(len(bike_1))\n",
        "print(len(bike_2))"
      ]
    },
    {
      "cell_type": "code",
      "execution_count": null,
      "id": "090eb433",
      "metadata": {
        "id": "090eb433",
        "outputId": "d3f6544d-0185-4ac2-8e5a-09bd66575f5c"
      },
      "outputs": [
        {
          "data": {
            "text/html": [
              "<div>\n",
              "<style scoped>\n",
              "    .dataframe tbody tr th:only-of-type {\n",
              "        vertical-align: middle;\n",
              "    }\n",
              "\n",
              "    .dataframe tbody tr th {\n",
              "        vertical-align: top;\n",
              "    }\n",
              "\n",
              "    .dataframe thead th {\n",
              "        text-align: right;\n",
              "    }\n",
              "</style>\n",
              "<table border=\"1\" class=\"dataframe\">\n",
              "  <thead>\n",
              "    <tr style=\"text-align: right;\">\n",
              "      <th></th>\n",
              "      <th>datetime</th>\n",
              "      <th>season</th>\n",
              "      <th>holiday</th>\n",
              "      <th>workingday</th>\n",
              "    </tr>\n",
              "  </thead>\n",
              "  <tbody>\n",
              "    <tr>\n",
              "      <th>0</th>\n",
              "      <td>2011-01-01 00:00:00</td>\n",
              "      <td>1</td>\n",
              "      <td>0</td>\n",
              "      <td>0</td>\n",
              "    </tr>\n",
              "    <tr>\n",
              "      <th>1</th>\n",
              "      <td>2011-01-01 01:00:00</td>\n",
              "      <td>1</td>\n",
              "      <td>0</td>\n",
              "      <td>0</td>\n",
              "    </tr>\n",
              "    <tr>\n",
              "      <th>2</th>\n",
              "      <td>2011-01-01 02:00:00</td>\n",
              "      <td>1</td>\n",
              "      <td>0</td>\n",
              "      <td>0</td>\n",
              "    </tr>\n",
              "    <tr>\n",
              "      <th>0</th>\n",
              "      <td>2011-01-01 05:00:00</td>\n",
              "      <td>1</td>\n",
              "      <td>0</td>\n",
              "      <td>0</td>\n",
              "    </tr>\n",
              "    <tr>\n",
              "      <th>1</th>\n",
              "      <td>2011-01-01 06:00:00</td>\n",
              "      <td>1</td>\n",
              "      <td>0</td>\n",
              "      <td>0</td>\n",
              "    </tr>\n",
              "    <tr>\n",
              "      <th>2</th>\n",
              "      <td>2011-01-01 07:00:00</td>\n",
              "      <td>1</td>\n",
              "      <td>0</td>\n",
              "      <td>0</td>\n",
              "    </tr>\n",
              "  </tbody>\n",
              "</table>\n",
              "</div>"
            ],
            "text/plain": [
              "              datetime  season  holiday  workingday\n",
              "0  2011-01-01 00:00:00       1        0           0\n",
              "1  2011-01-01 01:00:00       1        0           0\n",
              "2  2011-01-01 02:00:00       1        0           0\n",
              "0  2011-01-01 05:00:00       1        0           0\n",
              "1  2011-01-01 06:00:00       1        0           0\n",
              "2  2011-01-01 07:00:00       1        0           0"
            ]
          },
          "execution_count": 86,
          "metadata": {},
          "output_type": "execute_result"
        }
      ],
      "source": [
        "pd.concat([bike_1, bike_2.reset_index(drop = True)])"
      ]
    },
    {
      "cell_type": "code",
      "execution_count": null,
      "id": "5b0a7680",
      "metadata": {
        "id": "5b0a7680",
        "outputId": "cb0c968e-78a5-4297-be33-19a09b2a3416"
      },
      "outputs": [
        {
          "data": {
            "text/html": [
              "<div>\n",
              "<style scoped>\n",
              "    .dataframe tbody tr th:only-of-type {\n",
              "        vertical-align: middle;\n",
              "    }\n",
              "\n",
              "    .dataframe tbody tr th {\n",
              "        vertical-align: top;\n",
              "    }\n",
              "\n",
              "    .dataframe thead th {\n",
              "        text-align: right;\n",
              "    }\n",
              "</style>\n",
              "<table border=\"1\" class=\"dataframe\">\n",
              "  <thead>\n",
              "    <tr style=\"text-align: right;\">\n",
              "      <th></th>\n",
              "      <th>team</th>\n",
              "      <th>No</th>\n",
              "      <th>member</th>\n",
              "    </tr>\n",
              "  </thead>\n",
              "  <tbody>\n",
              "    <tr>\n",
              "      <th>0</th>\n",
              "      <td>TWICE</td>\n",
              "      <td>1414</td>\n",
              "      <td>미나</td>\n",
              "    </tr>\n",
              "    <tr>\n",
              "      <th>1</th>\n",
              "      <td>TWICE</td>\n",
              "      <td>1462</td>\n",
              "      <td>나연</td>\n",
              "    </tr>\n",
              "  </tbody>\n",
              "</table>\n",
              "</div>"
            ],
            "text/plain": [
              "    team    No member\n",
              "0  TWICE  1414     미나\n",
              "1  TWICE  1462     나연"
            ]
          },
          "execution_count": 87,
          "metadata": {},
          "output_type": "execute_result"
        }
      ],
      "source": [
        "df_A = pd.read_csv('join_data_group_members.csv')\n",
        "df_B = pd.read_csv('join_data_member_room.csv')\n",
        "df_A.head(2)"
      ]
    },
    {
      "cell_type": "code",
      "execution_count": null,
      "id": "985ed1f9",
      "metadata": {
        "id": "985ed1f9",
        "outputId": "60576bfb-00fb-42c1-ab09-a94a65411c75"
      },
      "outputs": [
        {
          "data": {
            "text/html": [
              "<div>\n",
              "<style scoped>\n",
              "    .dataframe tbody tr th:only-of-type {\n",
              "        vertical-align: middle;\n",
              "    }\n",
              "\n",
              "    .dataframe tbody tr th {\n",
              "        vertical-align: top;\n",
              "    }\n",
              "\n",
              "    .dataframe thead th {\n",
              "        text-align: right;\n",
              "    }\n",
              "</style>\n",
              "<table border=\"1\" class=\"dataframe\">\n",
              "  <thead>\n",
              "    <tr style=\"text-align: right;\">\n",
              "      <th></th>\n",
              "      <th>floor</th>\n",
              "      <th>room</th>\n",
              "      <th>name</th>\n",
              "    </tr>\n",
              "  </thead>\n",
              "  <tbody>\n",
              "    <tr>\n",
              "      <th>0</th>\n",
              "      <td>3</td>\n",
              "      <td>3G-A</td>\n",
              "      <td>미나</td>\n",
              "    </tr>\n",
              "    <tr>\n",
              "      <th>1</th>\n",
              "      <td>3</td>\n",
              "      <td>3G-B</td>\n",
              "      <td>나연</td>\n",
              "    </tr>\n",
              "  </tbody>\n",
              "</table>\n",
              "</div>"
            ],
            "text/plain": [
              "   floor  room name\n",
              "0      3  3G-A   미나\n",
              "1      3  3G-B   나연"
            ]
          },
          "execution_count": 88,
          "metadata": {},
          "output_type": "execute_result"
        }
      ],
      "source": [
        "df_B.head(2)"
      ]
    },
    {
      "cell_type": "code",
      "execution_count": null,
      "id": "abb4a974",
      "metadata": {
        "id": "abb4a974"
      },
      "outputs": [],
      "source": [
        "#pd.merge()를 사용한 병합\n",
        "#left와 right 지정, left_on과 right_on 지정하여 비교군 설정\n",
        "#how : inner -> inner join / left -> left join"
      ]
    },
    {
      "cell_type": "code",
      "execution_count": null,
      "id": "517df9a7",
      "metadata": {
        "id": "517df9a7",
        "outputId": "471807c6-753b-41c8-eb3d-f22ec09a7dbc"
      },
      "outputs": [
        {
          "data": {
            "text/html": [
              "<div>\n",
              "<style scoped>\n",
              "    .dataframe tbody tr th:only-of-type {\n",
              "        vertical-align: middle;\n",
              "    }\n",
              "\n",
              "    .dataframe tbody tr th {\n",
              "        vertical-align: top;\n",
              "    }\n",
              "\n",
              "    .dataframe thead th {\n",
              "        text-align: right;\n",
              "    }\n",
              "</style>\n",
              "<table border=\"1\" class=\"dataframe\">\n",
              "  <thead>\n",
              "    <tr style=\"text-align: right;\">\n",
              "      <th></th>\n",
              "      <th>team</th>\n",
              "      <th>No</th>\n",
              "      <th>member</th>\n",
              "      <th>floor</th>\n",
              "      <th>room</th>\n",
              "      <th>name</th>\n",
              "    </tr>\n",
              "  </thead>\n",
              "  <tbody>\n",
              "    <tr>\n",
              "      <th>0</th>\n",
              "      <td>TWICE</td>\n",
              "      <td>1414</td>\n",
              "      <td>미나</td>\n",
              "      <td>3</td>\n",
              "      <td>3G-A</td>\n",
              "      <td>미나</td>\n",
              "    </tr>\n",
              "    <tr>\n",
              "      <th>1</th>\n",
              "      <td>TWICE</td>\n",
              "      <td>1462</td>\n",
              "      <td>나연</td>\n",
              "      <td>3</td>\n",
              "      <td>3G-B</td>\n",
              "      <td>나연</td>\n",
              "    </tr>\n",
              "    <tr>\n",
              "      <th>2</th>\n",
              "      <td>TWICE</td>\n",
              "      <td>1178</td>\n",
              "      <td>다현</td>\n",
              "      <td>3</td>\n",
              "      <td>3G-C</td>\n",
              "      <td>다현</td>\n",
              "    </tr>\n",
              "    <tr>\n",
              "      <th>3</th>\n",
              "      <td>TWICE</td>\n",
              "      <td>1525</td>\n",
              "      <td>정연</td>\n",
              "      <td>4</td>\n",
              "      <td>4G-A</td>\n",
              "      <td>정연</td>\n",
              "    </tr>\n",
              "    <tr>\n",
              "      <th>4</th>\n",
              "      <td>TWICE</td>\n",
              "      <td>1194</td>\n",
              "      <td>지효</td>\n",
              "      <td>4</td>\n",
              "      <td>4G-B</td>\n",
              "      <td>지효</td>\n",
              "    </tr>\n",
              "    <tr>\n",
              "      <th>5</th>\n",
              "      <td>TWICE</td>\n",
              "      <td>1937</td>\n",
              "      <td>채연</td>\n",
              "      <td>4</td>\n",
              "      <td>4G-C</td>\n",
              "      <td>채연</td>\n",
              "    </tr>\n",
              "    <tr>\n",
              "      <th>6</th>\n",
              "      <td>TWICE</td>\n",
              "      <td>1817</td>\n",
              "      <td>모모</td>\n",
              "      <td>5</td>\n",
              "      <td>5G-A</td>\n",
              "      <td>모모</td>\n",
              "    </tr>\n",
              "    <tr>\n",
              "      <th>7</th>\n",
              "      <td>TWICE</td>\n",
              "      <td>1117</td>\n",
              "      <td>쯔위</td>\n",
              "      <td>5</td>\n",
              "      <td>5G-B</td>\n",
              "      <td>쯔위</td>\n",
              "    </tr>\n",
              "    <tr>\n",
              "      <th>8</th>\n",
              "      <td>TWICE</td>\n",
              "      <td>1298</td>\n",
              "      <td>사나</td>\n",
              "      <td>5</td>\n",
              "      <td>5G-C</td>\n",
              "      <td>사나</td>\n",
              "    </tr>\n",
              "  </tbody>\n",
              "</table>\n",
              "</div>"
            ],
            "text/plain": [
              "    team    No member  floor  room name\n",
              "0  TWICE  1414     미나      3  3G-A   미나\n",
              "1  TWICE  1462     나연      3  3G-B   나연\n",
              "2  TWICE  1178     다현      3  3G-C   다현\n",
              "3  TWICE  1525     정연      4  4G-A   정연\n",
              "4  TWICE  1194     지효      4  4G-B   지효\n",
              "5  TWICE  1937     채연      4  4G-C   채연\n",
              "6  TWICE  1817     모모      5  5G-A   모모\n",
              "7  TWICE  1117     쯔위      5  5G-B   쯔위\n",
              "8  TWICE  1298     사나      5  5G-C   사나"
            ]
          },
          "execution_count": 89,
          "metadata": {},
          "output_type": "execute_result"
        }
      ],
      "source": [
        "pd.merge(left = df_A, right = df_B,\n",
        "        left_on = 'member', right_on = 'name',\n",
        "        how = 'inner')"
      ]
    },
    {
      "cell_type": "code",
      "execution_count": null,
      "id": "5b2ceb39",
      "metadata": {
        "id": "5b2ceb39"
      },
      "outputs": [],
      "source": [
        "#inner join : A와 B를 병합하는데 합집합이 존재하는 행만 반환"
      ]
    },
    {
      "cell_type": "code",
      "execution_count": null,
      "id": "cd881633",
      "metadata": {
        "id": "cd881633"
      },
      "outputs": [],
      "source": [
        "#left join : A와 B를 병합하는데 합집합이 없는 A 행도 반환, B는 결측행으로 반환"
      ]
    },
    {
      "cell_type": "code",
      "execution_count": null,
      "id": "21a92acd",
      "metadata": {
        "id": "21a92acd",
        "outputId": "41835a53-ffbb-447c-c209-2714bde176c8"
      },
      "outputs": [
        {
          "data": {
            "text/html": [
              "<div>\n",
              "<style scoped>\n",
              "    .dataframe tbody tr th:only-of-type {\n",
              "        vertical-align: middle;\n",
              "    }\n",
              "\n",
              "    .dataframe tbody tr th {\n",
              "        vertical-align: top;\n",
              "    }\n",
              "\n",
              "    .dataframe thead th {\n",
              "        text-align: right;\n",
              "    }\n",
              "</style>\n",
              "<table border=\"1\" class=\"dataframe\">\n",
              "  <thead>\n",
              "    <tr style=\"text-align: right;\">\n",
              "      <th></th>\n",
              "      <th>team</th>\n",
              "      <th>No</th>\n",
              "      <th>member</th>\n",
              "      <th>floor</th>\n",
              "      <th>room</th>\n",
              "      <th>name</th>\n",
              "    </tr>\n",
              "  </thead>\n",
              "  <tbody>\n",
              "    <tr>\n",
              "      <th>0</th>\n",
              "      <td>TWICE</td>\n",
              "      <td>1414</td>\n",
              "      <td>미나</td>\n",
              "      <td>3.0</td>\n",
              "      <td>3G-A</td>\n",
              "      <td>미나</td>\n",
              "    </tr>\n",
              "    <tr>\n",
              "      <th>1</th>\n",
              "      <td>TWICE</td>\n",
              "      <td>1462</td>\n",
              "      <td>나연</td>\n",
              "      <td>3.0</td>\n",
              "      <td>3G-B</td>\n",
              "      <td>나연</td>\n",
              "    </tr>\n",
              "    <tr>\n",
              "      <th>2</th>\n",
              "      <td>TWICE</td>\n",
              "      <td>1178</td>\n",
              "      <td>다현</td>\n",
              "      <td>3.0</td>\n",
              "      <td>3G-C</td>\n",
              "      <td>다현</td>\n",
              "    </tr>\n",
              "    <tr>\n",
              "      <th>3</th>\n",
              "      <td>TWICE</td>\n",
              "      <td>1525</td>\n",
              "      <td>정연</td>\n",
              "      <td>4.0</td>\n",
              "      <td>4G-A</td>\n",
              "      <td>정연</td>\n",
              "    </tr>\n",
              "    <tr>\n",
              "      <th>4</th>\n",
              "      <td>TWICE</td>\n",
              "      <td>1194</td>\n",
              "      <td>지효</td>\n",
              "      <td>4.0</td>\n",
              "      <td>4G-B</td>\n",
              "      <td>지효</td>\n",
              "    </tr>\n",
              "    <tr>\n",
              "      <th>5</th>\n",
              "      <td>TWICE</td>\n",
              "      <td>1937</td>\n",
              "      <td>채연</td>\n",
              "      <td>4.0</td>\n",
              "      <td>4G-C</td>\n",
              "      <td>채연</td>\n",
              "    </tr>\n",
              "    <tr>\n",
              "      <th>6</th>\n",
              "      <td>TWICE</td>\n",
              "      <td>1817</td>\n",
              "      <td>모모</td>\n",
              "      <td>5.0</td>\n",
              "      <td>5G-A</td>\n",
              "      <td>모모</td>\n",
              "    </tr>\n",
              "    <tr>\n",
              "      <th>7</th>\n",
              "      <td>TWICE</td>\n",
              "      <td>1117</td>\n",
              "      <td>쯔위</td>\n",
              "      <td>5.0</td>\n",
              "      <td>5G-B</td>\n",
              "      <td>쯔위</td>\n",
              "    </tr>\n",
              "    <tr>\n",
              "      <th>8</th>\n",
              "      <td>TWICE</td>\n",
              "      <td>1298</td>\n",
              "      <td>사나</td>\n",
              "      <td>5.0</td>\n",
              "      <td>5G-C</td>\n",
              "      <td>사나</td>\n",
              "    </tr>\n",
              "    <tr>\n",
              "      <th>9</th>\n",
              "      <td>Red Velvet</td>\n",
              "      <td>1228</td>\n",
              "      <td>아이린</td>\n",
              "      <td>NaN</td>\n",
              "      <td>NaN</td>\n",
              "      <td>NaN</td>\n",
              "    </tr>\n",
              "    <tr>\n",
              "      <th>10</th>\n",
              "      <td>Red Velvet</td>\n",
              "      <td>1243</td>\n",
              "      <td>웬디</td>\n",
              "      <td>NaN</td>\n",
              "      <td>NaN</td>\n",
              "      <td>NaN</td>\n",
              "    </tr>\n",
              "    <tr>\n",
              "      <th>11</th>\n",
              "      <td>Red Velvet</td>\n",
              "      <td>1013</td>\n",
              "      <td>슬기</td>\n",
              "      <td>NaN</td>\n",
              "      <td>NaN</td>\n",
              "      <td>NaN</td>\n",
              "    </tr>\n",
              "    <tr>\n",
              "      <th>12</th>\n",
              "      <td>Red Velvet</td>\n",
              "      <td>1373</td>\n",
              "      <td>조이</td>\n",
              "      <td>NaN</td>\n",
              "      <td>NaN</td>\n",
              "      <td>NaN</td>\n",
              "    </tr>\n",
              "    <tr>\n",
              "      <th>13</th>\n",
              "      <td>Red Velvet</td>\n",
              "      <td>1664</td>\n",
              "      <td>예리</td>\n",
              "      <td>NaN</td>\n",
              "      <td>NaN</td>\n",
              "      <td>NaN</td>\n",
              "    </tr>\n",
              "  </tbody>\n",
              "</table>\n",
              "</div>"
            ],
            "text/plain": [
              "          team    No member  floor  room name\n",
              "0        TWICE  1414     미나    3.0  3G-A   미나\n",
              "1        TWICE  1462     나연    3.0  3G-B   나연\n",
              "2        TWICE  1178     다현    3.0  3G-C   다현\n",
              "3        TWICE  1525     정연    4.0  4G-A   정연\n",
              "4        TWICE  1194     지효    4.0  4G-B   지효\n",
              "5        TWICE  1937     채연    4.0  4G-C   채연\n",
              "6        TWICE  1817     모모    5.0  5G-A   모모\n",
              "7        TWICE  1117     쯔위    5.0  5G-B   쯔위\n",
              "8        TWICE  1298     사나    5.0  5G-C   사나\n",
              "9   Red Velvet  1228    아이린    NaN   NaN  NaN\n",
              "10  Red Velvet  1243     웬디    NaN   NaN  NaN\n",
              "11  Red Velvet  1013     슬기    NaN   NaN  NaN\n",
              "12  Red Velvet  1373     조이    NaN   NaN  NaN\n",
              "13  Red Velvet  1664     예리    NaN   NaN  NaN"
            ]
          },
          "execution_count": 90,
          "metadata": {},
          "output_type": "execute_result"
        }
      ],
      "source": [
        "pd.merge(left = df_A, right = df_B,\n",
        "        left_on = 'member', right_on = 'name',\n",
        "        how = 'left')"
      ]
    },
    {
      "cell_type": "code",
      "execution_count": null,
      "id": "e3e76979",
      "metadata": {
        "id": "e3e76979",
        "outputId": "be9787e2-7e08-4e98-b174-d6a4ce7e8ca2"
      },
      "outputs": [
        {
          "data": {
            "text/plain": [
              "1"
            ]
          },
          "execution_count": 97,
          "metadata": {},
          "output_type": "execute_result"
        }
      ],
      "source": [
        "bike['season']==2"
      ]
    }
  ],
  "metadata": {
    "kernelspec": {
      "display_name": "Python 3 (ipykernel)",
      "language": "python",
      "name": "python3"
    },
    "language_info": {
      "codemirror_mode": {
        "name": "ipython",
        "version": 3
      },
      "file_extension": ".py",
      "mimetype": "text/x-python",
      "name": "python",
      "nbconvert_exporter": "python",
      "pygments_lexer": "ipython3",
      "version": "3.9.12"
    },
    "colab": {
      "provenance": [],
      "include_colab_link": true
    }
  },
  "nbformat": 4,
  "nbformat_minor": 5
}