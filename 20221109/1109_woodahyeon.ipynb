{
  "cells": [
    {
      "cell_type": "markdown",
      "metadata": {
        "id": "view-in-github",
        "colab_type": "text"
      },
      "source": [
        "<a href=\"https://colab.research.google.com/github/gnbhub/GnB20222_AI_1/blob/master/1109/1109_woodahyeon.ipynb\" target=\"_parent\"><img src=\"https://colab.research.google.com/assets/colab-badge.svg\" alt=\"Open In Colab\"/></a>"
      ]
    },
    {
      "cell_type": "code",
      "execution_count": null,
      "id": "d66c38e7",
      "metadata": {
        "id": "d66c38e7",
        "outputId": "92657e1f-69c6-4aa6-e5c4-e7e29adfcd0d"
      },
      "outputs": [
        {
          "data": {
            "text/plain": [
              "array([[1, 2],\n",
              "       [3, 4]])"
            ]
          },
          "execution_count": 20,
          "metadata": {},
          "output_type": "execute_result"
        }
      ],
      "source": [
        "import numpy as np\n",
        "\n",
        "np.array([1,2,3])\n",
        "np.array([1,2,3,4]).reshape(2,2)"
      ]
    },
    {
      "cell_type": "code",
      "execution_count": null,
      "id": "a3ed66d7",
      "metadata": {
        "id": "a3ed66d7",
        "outputId": "b1ba9849-0cbd-4687-b009-48d53628b1ab"
      },
      "outputs": [
        {
          "data": {
            "text/plain": [
              "array([[1, 2],\n",
              "       [3, 4]])"
            ]
          },
          "execution_count": 6,
          "metadata": {},
          "output_type": "execute_result"
        }
      ],
      "source": [
        "np.array([[1,2],[3,4]])"
      ]
    },
    {
      "cell_type": "code",
      "execution_count": null,
      "id": "b81edea9",
      "metadata": {
        "id": "b81edea9",
        "outputId": "af6788d5-5b8b-498f-a693-cadf452ffa3b"
      },
      "outputs": [
        {
          "data": {
            "text/plain": [
              "array([[1., 1., 1., 1.],\n",
              "       [1., 1., 1., 1.]])"
            ]
          },
          "execution_count": 8,
          "metadata": {},
          "output_type": "execute_result"
        }
      ],
      "source": [
        "np.ones((2,4))"
      ]
    },
    {
      "cell_type": "code",
      "execution_count": null,
      "id": "569ebb3f",
      "metadata": {
        "id": "569ebb3f",
        "outputId": "046087b6-6142-45d2-f5bd-69bd8ad27173"
      },
      "outputs": [
        {
          "data": {
            "text/plain": [
              "array([1, 2, 3])"
            ]
          },
          "execution_count": 11,
          "metadata": {},
          "output_type": "execute_result"
        }
      ],
      "source": [
        "array = np.array([[1,2,3],[4,5,6]])"
      ]
    },
    {
      "cell_type": "raw",
      "id": "ad253733",
      "metadata": {
        "id": "ad253733"
      },
      "source": []
    },
    {
      "cell_type": "code",
      "execution_count": null,
      "id": "72cb073a",
      "metadata": {
        "scrolled": true,
        "id": "72cb073a",
        "outputId": "0970216d-b3cb-4a3c-eab8-2936e66b8631"
      },
      "outputs": [
        {
          "data": {
            "text/plain": [
              "array([1, 2, 3])"
            ]
          },
          "execution_count": 40,
          "metadata": {},
          "output_type": "execute_result"
        }
      ],
      "source": [
        "array[0]"
      ]
    },
    {
      "cell_type": "code",
      "execution_count": null,
      "id": "fa521339",
      "metadata": {
        "id": "fa521339"
      },
      "outputs": [],
      "source": [
        "array[1]"
      ]
    },
    {
      "cell_type": "code",
      "execution_count": null,
      "id": "888b002d",
      "metadata": {
        "id": "888b002d",
        "outputId": "e9fc91f4-60a8-4c53-fe82-0f1659e57dc4"
      },
      "outputs": [
        {
          "data": {
            "text/plain": [
              "array([1, 2])"
            ]
          },
          "execution_count": 41,
          "metadata": {},
          "output_type": "execute_result"
        }
      ],
      "source": [
        "array[0, :2]"
      ]
    },
    {
      "cell_type": "code",
      "execution_count": null,
      "id": "4adb7e0e",
      "metadata": {
        "id": "4adb7e0e",
        "outputId": "cf82da24-bcdf-4e3e-a1d8-4a683bf182d5"
      },
      "outputs": [
        {
          "data": {
            "text/plain": [
              "array([1, 2, 3])"
            ]
          },
          "execution_count": 12,
          "metadata": {},
          "output_type": "execute_result"
        }
      ],
      "source": [
        "array[0]"
      ]
    },
    {
      "cell_type": "code",
      "execution_count": null,
      "id": "f02358f0",
      "metadata": {
        "id": "f02358f0",
        "outputId": "f53355aa-8c16-4c88-cbb1-069b629e712e"
      },
      "outputs": [
        {
          "data": {
            "text/plain": [
              "array([1, 2])"
            ]
          },
          "execution_count": 13,
          "metadata": {},
          "output_type": "execute_result"
        }
      ],
      "source": [
        "array[0, :2]"
      ]
    },
    {
      "cell_type": "code",
      "execution_count": null,
      "id": "29b64a06",
      "metadata": {
        "id": "29b64a06",
        "outputId": "a89f765a-1fa9-4b58-b000-94e8233c2cc0"
      },
      "outputs": [
        {
          "data": {
            "text/plain": [
              "2"
            ]
          },
          "execution_count": 15,
          "metadata": {},
          "output_type": "execute_result"
        }
      ],
      "source": [
        "array.ndim"
      ]
    },
    {
      "cell_type": "code",
      "execution_count": null,
      "id": "7564208e",
      "metadata": {
        "id": "7564208e",
        "outputId": "26818564-9a97-48d9-87f8-12025b293630"
      },
      "outputs": [
        {
          "data": {
            "text/plain": [
              "(2, 3)"
            ]
          },
          "execution_count": 17,
          "metadata": {},
          "output_type": "execute_result"
        }
      ],
      "source": [
        "array.shape"
      ]
    },
    {
      "cell_type": "code",
      "execution_count": null,
      "id": "f319b4a6",
      "metadata": {
        "id": "f319b4a6",
        "outputId": "f7c839a8-f531-4b4f-e9fc-eb190eca5adc"
      },
      "outputs": [
        {
          "data": {
            "text/plain": [
              "dtype('int32')"
            ]
          },
          "execution_count": 18,
          "metadata": {},
          "output_type": "execute_result"
        }
      ],
      "source": [
        "array.dtype"
      ]
    },
    {
      "cell_type": "code",
      "execution_count": null,
      "id": "28a1f47e",
      "metadata": {
        "id": "28a1f47e",
        "outputId": "de2b0929-dede-463b-ef06-ebbe4dc890fb"
      },
      "outputs": [
        {
          "data": {
            "text/plain": [
              "21"
            ]
          },
          "execution_count": 19,
          "metadata": {},
          "output_type": "execute_result"
        }
      ],
      "source": [
        "array.sum()"
      ]
    },
    {
      "cell_type": "code",
      "execution_count": null,
      "id": "e6deb9dc",
      "metadata": {
        "id": "e6deb9dc",
        "outputId": "ae82626f-a7f6-4f7b-cba5-1695e75784b4"
      },
      "outputs": [
        {
          "data": {
            "text/plain": [
              "1"
            ]
          },
          "execution_count": 21,
          "metadata": {},
          "output_type": "execute_result"
        }
      ],
      "source": [
        "array.min()"
      ]
    },
    {
      "cell_type": "code",
      "execution_count": null,
      "id": "1fcfbb30",
      "metadata": {
        "id": "1fcfbb30",
        "outputId": "b72b97e2-172d-43f0-c49f-f2c5241d4e0c"
      },
      "outputs": [
        {
          "data": {
            "text/plain": [
              "6"
            ]
          },
          "execution_count": 22,
          "metadata": {},
          "output_type": "execute_result"
        }
      ],
      "source": [
        "array.max()"
      ]
    },
    {
      "cell_type": "code",
      "execution_count": null,
      "id": "83a17fcc",
      "metadata": {
        "id": "83a17fcc",
        "outputId": "a9ab9faa-dce5-4dd5-d640-835713491199"
      },
      "outputs": [
        {
          "data": {
            "text/plain": [
              "1.707825127659933"
            ]
          },
          "execution_count": 23,
          "metadata": {},
          "output_type": "execute_result"
        }
      ],
      "source": [
        "array.std()"
      ]
    },
    {
      "cell_type": "code",
      "execution_count": null,
      "id": "71558860",
      "metadata": {
        "id": "71558860",
        "outputId": "65d05247-22f8-4dd8-b10d-b0225954279b"
      },
      "outputs": [
        {
          "data": {
            "text/plain": [
              "2.9166666666666665"
            ]
          },
          "execution_count": 24,
          "metadata": {},
          "output_type": "execute_result"
        }
      ],
      "source": [
        "array.var()"
      ]
    },
    {
      "cell_type": "code",
      "execution_count": null,
      "id": "918f22c8",
      "metadata": {
        "id": "918f22c8"
      },
      "outputs": [],
      "source": [
        "nums = np.array([1,2,2,3])"
      ]
    },
    {
      "cell_type": "code",
      "execution_count": null,
      "id": "9acf6437",
      "metadata": {
        "id": "9acf6437",
        "outputId": "a3ec4dbd-9fe9-4474-f14d-e02a7c566471"
      },
      "outputs": [
        {
          "data": {
            "text/plain": [
              "array([1, 2, 3])"
            ]
          },
          "execution_count": 33,
          "metadata": {},
          "output_type": "execute_result"
        }
      ],
      "source": [
        "\n",
        "np.unique(nums)"
      ]
    },
    {
      "cell_type": "code",
      "execution_count": null,
      "id": "2726fce4",
      "metadata": {
        "id": "2726fce4",
        "outputId": "50446448-26ee-41d0-a867-66ff7d0966a1"
      },
      "outputs": [
        {
          "data": {
            "text/plain": [
              "array([3, 5, 7])"
            ]
          },
          "execution_count": 30,
          "metadata": {},
          "output_type": "execute_result"
        }
      ],
      "source": [
        "np.arange(3,8,2)"
      ]
    },
    {
      "cell_type": "code",
      "execution_count": null,
      "id": "9d8dfef9",
      "metadata": {
        "id": "9d8dfef9",
        "outputId": "863152af-94ac-487a-8405-685b9ce3ac2a"
      },
      "outputs": [
        {
          "data": {
            "text/plain": [
              "array([0, 1, 1, 0])"
            ]
          },
          "execution_count": 34,
          "metadata": {},
          "output_type": "execute_result"
        }
      ],
      "source": [
        "np.where(nums == 2,1,0)"
      ]
    },
    {
      "cell_type": "code",
      "execution_count": null,
      "id": "590adfdc",
      "metadata": {
        "id": "590adfdc"
      },
      "outputs": [],
      "source": [
        "import pandas as pd"
      ]
    },
    {
      "cell_type": "code",
      "execution_count": null,
      "id": "8319767d",
      "metadata": {
        "id": "8319767d"
      },
      "outputs": [],
      "source": [
        "ser = pd.Series([1,2,3])"
      ]
    },
    {
      "cell_type": "code",
      "execution_count": null,
      "id": "3d6bd118",
      "metadata": {
        "id": "3d6bd118",
        "outputId": "1ab5abe6-2525-4e19-fd1a-0813f5ec59d9"
      },
      "outputs": [
        {
          "data": {
            "text/plain": [
              "0    1\n",
              "1    2\n",
              "2    3\n",
              "dtype: int64"
            ]
          },
          "execution_count": 37,
          "metadata": {},
          "output_type": "execute_result"
        }
      ],
      "source": [
        "ser"
      ]
    },
    {
      "cell_type": "code",
      "execution_count": null,
      "id": "93d30e1f",
      "metadata": {
        "id": "93d30e1f",
        "outputId": "a840bf0d-90e1-488f-c304-3c0787e8043a"
      },
      "outputs": [
        {
          "data": {
            "text/plain": [
              "array([1, 2, 3], dtype=int64)"
            ]
          },
          "execution_count": 38,
          "metadata": {},
          "output_type": "execute_result"
        }
      ],
      "source": [
        "ser.values"
      ]
    },
    {
      "cell_type": "code",
      "execution_count": null,
      "id": "3b43f491",
      "metadata": {
        "id": "3b43f491",
        "outputId": "6f3e91df-6dff-494b-cdac-3e5b4e369496"
      },
      "outputs": [
        {
          "data": {
            "text/plain": [
              "RangeIndex(start=0, stop=3, step=1)"
            ]
          },
          "execution_count": 39,
          "metadata": {},
          "output_type": "execute_result"
        }
      ],
      "source": [
        "ser.index"
      ]
    },
    {
      "cell_type": "code",
      "execution_count": null,
      "id": "f906f019",
      "metadata": {
        "id": "f906f019",
        "outputId": "1a8e4729-29db-4a14-ec28-9a024a7bddf5"
      },
      "outputs": [
        {
          "data": {
            "text/plain": [
              "0    1\n",
              "1    2\n",
              "2    3\n",
              "3    3\n",
              "4    4\n",
              "dtype: int64"
            ]
          },
          "execution_count": 42,
          "metadata": {},
          "output_type": "execute_result"
        }
      ],
      "source": [
        "pd.Series([1,2,3,3,4])"
      ]
    },
    {
      "cell_type": "code",
      "execution_count": null,
      "id": "b3d8dc22",
      "metadata": {
        "id": "b3d8dc22",
        "outputId": "94bca1d4-8fb1-48be-ec63-d4102eb3501b"
      },
      "outputs": [
        {
          "data": {
            "text/plain": [
              "a    1\n",
              "b    2\n",
              "c    3\n",
              "dtype: int64"
            ]
          },
          "execution_count": 43,
          "metadata": {},
          "output_type": "execute_result"
        }
      ],
      "source": [
        "pd.Series([1,2,3], index=['a','b','c'])"
      ]
    },
    {
      "cell_type": "code",
      "execution_count": null,
      "id": "73887d04",
      "metadata": {
        "id": "73887d04",
        "outputId": "67305685-0a24-4b88-cea5-bc3dc5716852"
      },
      "outputs": [
        {
          "data": {
            "text/plain": [
              "0    1\n",
              "1    2\n",
              "2    3\n",
              "3    3\n",
              "4    4\n",
              "dtype: int64"
            ]
          },
          "execution_count": 47,
          "metadata": {},
          "output_type": "execute_result"
        }
      ],
      "source": [
        "ser = pd.Series([1,2,3,3,4])\n",
        "ser"
      ]
    },
    {
      "cell_type": "code",
      "execution_count": null,
      "id": "41a49797",
      "metadata": {
        "id": "41a49797",
        "outputId": "3c02dcaa-de9c-4cf7-aee7-4a2a740354ba"
      },
      "outputs": [
        {
          "data": {
            "text/plain": [
              "0    2\n",
              "1    4\n",
              "2    4\n",
              "3    6\n",
              "4    7\n",
              "5    8\n",
              "dtype: int64"
            ]
          },
          "execution_count": 50,
          "metadata": {},
          "output_type": "execute_result"
        }
      ],
      "source": [
        "ser = pd.Series([2,4,4,6,7,8])\n",
        "ser"
      ]
    },
    {
      "cell_type": "code",
      "execution_count": null,
      "id": "73012813",
      "metadata": {
        "id": "73012813",
        "outputId": "bfbad2f3-aebb-4492-a774-ced25144df1b"
      },
      "outputs": [
        {
          "data": {
            "text/plain": [
              "5"
            ]
          },
          "execution_count": 51,
          "metadata": {},
          "output_type": "execute_result"
        }
      ],
      "source": [
        "ser.idxmax()"
      ]
    },
    {
      "cell_type": "code",
      "execution_count": null,
      "id": "241fd768",
      "metadata": {
        "id": "241fd768",
        "outputId": "764594a6-0d4f-49d1-fe37-85e0b934394c"
      },
      "outputs": [
        {
          "data": {
            "text/plain": [
              "0"
            ]
          },
          "execution_count": 52,
          "metadata": {},
          "output_type": "execute_result"
        }
      ],
      "source": [
        "ser.idxmin()"
      ]
    },
    {
      "cell_type": "code",
      "execution_count": null,
      "id": "9675dd4b",
      "metadata": {
        "id": "9675dd4b",
        "outputId": "1224bf40-3349-4fca-e3a1-bf8ae31ad73d"
      },
      "outputs": [
        {
          "data": {
            "text/plain": [
              "0    False\n",
              "1    False\n",
              "2    False\n",
              "3     True\n",
              "4     True\n",
              "5    False\n",
              "dtype: bool"
            ]
          },
          "execution_count": 54,
          "metadata": {},
          "output_type": "execute_result"
        }
      ],
      "source": [
        "ser.isin([6,7])"
      ]
    },
    {
      "cell_type": "code",
      "execution_count": null,
      "id": "0b682966",
      "metadata": {
        "id": "0b682966",
        "outputId": "e87ac4e8-2f02-4bac-8e7f-e40d92bdf441"
      },
      "outputs": [
        {
          "data": {
            "text/plain": [
              "2"
            ]
          },
          "execution_count": 55,
          "metadata": {},
          "output_type": "execute_result"
        }
      ],
      "source": [
        "ser.isin([6,7]).sum()"
      ]
    },
    {
      "cell_type": "code",
      "execution_count": null,
      "id": "31640d5f",
      "metadata": {
        "id": "31640d5f",
        "outputId": "e6497592-87f8-4d06-ecb1-40201e6842b0"
      },
      "outputs": [
        {
          "data": {
            "text/plain": [
              "1"
            ]
          },
          "execution_count": 56,
          "metadata": {},
          "output_type": "execute_result"
        }
      ],
      "source": [
        "ser = pd.Series([1,2,3,3,4])\n",
        "ser[0]"
      ]
    },
    {
      "cell_type": "code",
      "execution_count": null,
      "id": "f333524d",
      "metadata": {
        "id": "f333524d",
        "outputId": "88c0e60a-05ea-4e68-a0c8-81c35d891646"
      },
      "outputs": [
        {
          "data": {
            "text/plain": [
              "1    2\n",
              "2    3\n",
              "dtype: int64"
            ]
          },
          "execution_count": 58,
          "metadata": {},
          "output_type": "execute_result"
        }
      ],
      "source": [
        "ser[1:3]"
      ]
    },
    {
      "cell_type": "code",
      "execution_count": null,
      "id": "f4b826e9",
      "metadata": {
        "id": "f4b826e9",
        "outputId": "0d5a9ecf-fa1f-4136-bf1b-0656bdb992d5"
      },
      "outputs": [
        {
          "data": {
            "text/html": [
              "<div>\n",
              "<style scoped>\n",
              "    .dataframe tbody tr th:only-of-type {\n",
              "        vertical-align: middle;\n",
              "    }\n",
              "\n",
              "    .dataframe tbody tr th {\n",
              "        vertical-align: top;\n",
              "    }\n",
              "\n",
              "    .dataframe thead th {\n",
              "        text-align: right;\n",
              "    }\n",
              "</style>\n",
              "<table border=\"1\" class=\"dataframe\">\n",
              "  <thead>\n",
              "    <tr style=\"text-align: right;\">\n",
              "      <th></th>\n",
              "      <th>aa</th>\n",
              "      <th>bb</th>\n",
              "    </tr>\n",
              "  </thead>\n",
              "  <tbody>\n",
              "    <tr>\n",
              "      <th>0</th>\n",
              "      <td>1</td>\n",
              "      <td>2</td>\n",
              "    </tr>\n",
              "    <tr>\n",
              "      <th>1</th>\n",
              "      <td>2</td>\n",
              "      <td>3</td>\n",
              "    </tr>\n",
              "    <tr>\n",
              "      <th>2</th>\n",
              "      <td>3</td>\n",
              "      <td>4</td>\n",
              "    </tr>\n",
              "  </tbody>\n",
              "</table>\n",
              "</div>"
            ],
            "text/plain": [
              "   aa  bb\n",
              "0   1   2\n",
              "1   2   3\n",
              "2   3   4"
            ]
          },
          "execution_count": 64,
          "metadata": {},
          "output_type": "execute_result"
        }
      ],
      "source": [
        "df = pd.DataFrame({'aa':[1,2,3], 'bb':[2,3,4]})\n",
        "df"
      ]
    },
    {
      "cell_type": "code",
      "execution_count": null,
      "id": "c61bdb37",
      "metadata": {
        "id": "c61bdb37",
        "outputId": "776c399e-a707-4d5e-a762-0dd3f96c6d05"
      },
      "outputs": [
        {
          "data": {
            "text/plain": [
              "0    1\n",
              "1    2\n",
              "2    3\n",
              "Name: aa, dtype: int64"
            ]
          },
          "execution_count": 65,
          "metadata": {},
          "output_type": "execute_result"
        }
      ],
      "source": [
        "df['aa']"
      ]
    },
    {
      "cell_type": "code",
      "execution_count": null,
      "id": "d649ee89",
      "metadata": {
        "id": "d649ee89",
        "outputId": "7017a25e-115a-498b-ac81-fcbe7c22aa85"
      },
      "outputs": [
        {
          "data": {
            "text/plain": [
              "3"
            ]
          },
          "execution_count": 66,
          "metadata": {},
          "output_type": "execute_result"
        }
      ],
      "source": [
        "df.iloc[1,1]"
      ]
    },
    {
      "cell_type": "code",
      "execution_count": null,
      "id": "d6d8aa92",
      "metadata": {
        "id": "d6d8aa92",
        "outputId": "2c721991-37c1-4242-fd8f-eadf596f4fb4"
      },
      "outputs": [
        {
          "data": {
            "text/plain": [
              "2"
            ]
          },
          "execution_count": 69,
          "metadata": {},
          "output_type": "execute_result"
        }
      ],
      "source": [
        "df.loc[1,'aa']"
      ]
    },
    {
      "cell_type": "code",
      "execution_count": null,
      "id": "f1cec510",
      "metadata": {
        "id": "f1cec510",
        "outputId": "029dd8a0-d57a-4be2-a861-3cdf48dca9fb"
      },
      "outputs": [
        {
          "data": {
            "text/html": [
              "<div>\n",
              "<style scoped>\n",
              "    .dataframe tbody tr th:only-of-type {\n",
              "        vertical-align: middle;\n",
              "    }\n",
              "\n",
              "    .dataframe tbody tr th {\n",
              "        vertical-align: top;\n",
              "    }\n",
              "\n",
              "    .dataframe thead th {\n",
              "        text-align: right;\n",
              "    }\n",
              "</style>\n",
              "<table border=\"1\" class=\"dataframe\">\n",
              "  <thead>\n",
              "    <tr style=\"text-align: right;\">\n",
              "      <th></th>\n",
              "      <th>Sepal_Length</th>\n",
              "      <th>Sepal_Width</th>\n",
              "      <th>Petal_Length</th>\n",
              "      <th>Petal_Width</th>\n",
              "      <th>Species</th>\n",
              "    </tr>\n",
              "  </thead>\n",
              "  <tbody>\n",
              "    <tr>\n",
              "      <th>0</th>\n",
              "      <td>5.1</td>\n",
              "      <td>NaN</td>\n",
              "      <td>NaN</td>\n",
              "      <td>0.2</td>\n",
              "      <td>setosa</td>\n",
              "    </tr>\n",
              "    <tr>\n",
              "      <th>1</th>\n",
              "      <td>4.9</td>\n",
              "      <td>3.0</td>\n",
              "      <td>1.4</td>\n",
              "      <td>0.2</td>\n",
              "      <td>setosa</td>\n",
              "    </tr>\n",
              "    <tr>\n",
              "      <th>2</th>\n",
              "      <td>4.7</td>\n",
              "      <td>3.2</td>\n",
              "      <td>1.3</td>\n",
              "      <td>0.2</td>\n",
              "      <td>NaN</td>\n",
              "    </tr>\n",
              "    <tr>\n",
              "      <th>3</th>\n",
              "      <td>4.6</td>\n",
              "      <td>3.1</td>\n",
              "      <td>1.5</td>\n",
              "      <td>0.2</td>\n",
              "      <td>setosa</td>\n",
              "    </tr>\n",
              "    <tr>\n",
              "      <th>4</th>\n",
              "      <td>5.0</td>\n",
              "      <td>3.6</td>\n",
              "      <td>1.4</td>\n",
              "      <td>0.2</td>\n",
              "      <td>NaN</td>\n",
              "    </tr>\n",
              "  </tbody>\n",
              "</table>\n",
              "</div>"
            ],
            "text/plain": [
              "   Sepal_Length  Sepal_Width  Petal_Length  Petal_Width Species\n",
              "0           5.1          NaN           NaN          0.2  setosa\n",
              "1           4.9          3.0           1.4          0.2  setosa\n",
              "2           4.7          3.2           1.3          0.2     NaN\n",
              "3           4.6          3.1           1.5          0.2  setosa\n",
              "4           5.0          3.6           1.4          0.2     NaN"
            ]
          },
          "execution_count": 72,
          "metadata": {},
          "output_type": "execute_result"
        }
      ],
      "source": [
        "df = pd.read_csv(\"iris_missing.csv\")\n",
        "df.head()"
      ]
    },
    {
      "cell_type": "code",
      "execution_count": null,
      "id": "2e7b5ad7",
      "metadata": {
        "id": "2e7b5ad7"
      },
      "outputs": [],
      "source": []
    },
    {
      "cell_type": "code",
      "execution_count": null,
      "id": "63f90379",
      "metadata": {
        "id": "63f90379"
      },
      "outputs": [],
      "source": []
    },
    {
      "cell_type": "code",
      "execution_count": null,
      "id": "0009ac07",
      "metadata": {
        "id": "0009ac07"
      },
      "outputs": [],
      "source": []
    },
    {
      "cell_type": "code",
      "execution_count": null,
      "id": "a41d92da",
      "metadata": {
        "id": "a41d92da"
      },
      "outputs": [],
      "source": []
    },
    {
      "cell_type": "code",
      "execution_count": null,
      "id": "5bfd1b90",
      "metadata": {
        "id": "5bfd1b90"
      },
      "outputs": [],
      "source": []
    }
  ],
  "metadata": {
    "kernelspec": {
      "display_name": "Python 3 (ipykernel)",
      "language": "python",
      "name": "python3"
    },
    "language_info": {
      "codemirror_mode": {
        "name": "ipython",
        "version": 3
      },
      "file_extension": ".py",
      "mimetype": "text/x-python",
      "name": "python",
      "nbconvert_exporter": "python",
      "pygments_lexer": "ipython3",
      "version": "3.9.12"
    },
    "colab": {
      "provenance": [],
      "include_colab_link": true
    }
  },
  "nbformat": 4,
  "nbformat_minor": 5
}
